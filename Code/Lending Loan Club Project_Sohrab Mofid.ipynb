{
 "nbformat": 4,
 "nbformat_minor": 0,
 "metadata": {
  "colab": {
   "provenance": [],
   "authorship_tag": "ABX9TyNRulO+SeEjNgo0wocmm9ua"
  },
  "kernelspec": {
   "name": "python3",
   "display_name": "Python 3"
  },
  "language_info": {
   "name": "python"
  }
 },
 "cells": [
  {
   "cell_type": "code",
   "execution_count": 186,
   "metadata": {
    "id": "q_Jcu4XtHE7Z",
    "executionInfo": {
     "status": "ok",
     "timestamp": 1673029884494,
     "user_tz": 300,
     "elapsed": 3,
     "user": {
      "displayName": "Sohrab Alex Mofid",
      "userId": "16250439725720827410"
     }
    },
    "pycharm": {
     "name": "#%%\n"
    }
   },
   "outputs": [],
   "source": [
    "# data loading and data management\n",
    "import pandas as pd\n",
    "import numpy as np\n",
    "import matplotlib.pyplot as plt\n",
    "import seaborn as sns\n",
    "from scipy.stats import skew, norm\n",
    "\n",
    "#data wrangling and feature engineering\n",
    "from sklearn import preprocessing\n",
    "from sklearn.feature_selection import chi2\n",
    "from sklearn.feature_selection import SelectKBest\n",
    "from sklearn import preprocessing\n",
    "from sklearn.preprocessing import StandardScaler\n",
    "from sklearn.feature_selection import RFE\n",
    "from sklearn.model_selection import train_test_split\n",
    "from sklearn import metrics\n",
    "\n",
    "# Deep Learning\n",
    "from tensorflow import keras\n",
    "import tensorflow as tf\n",
    "from tensorflow import keras\n",
    "from tensorflow.keras.models import Sequential\n",
    "from tensorflow.keras.layers import Dense, BatchNormalization, Dropout\n",
    "from tensorflow.keras.callbacks import EarlyStopping\n",
    "from tensorflow.keras.optimizers import Adam"
   ]
  },
  {
   "cell_type": "code",
   "source": [
    "df= pd.read_csv(\"/content/loan_data.csv\")"
   ],
   "metadata": {
    "id": "FUZEx3TRH30Y",
    "executionInfo": {
     "status": "ok",
     "timestamp": 1673023331433,
     "user_tz": 300,
     "elapsed": 168,
     "user": {
      "displayName": "Sohrab Alex Mofid",
      "userId": "16250439725720827410"
     }
    },
    "pycharm": {
     "name": "#%%\n"
    }
   },
   "execution_count": 19,
   "outputs": []
  },
  {
   "cell_type": "code",
   "source": [
    "df.head(10)"
   ],
   "metadata": {
    "colab": {
     "base_uri": "https://localhost:8080/",
     "height": 427
    },
    "id": "W7buX56LH7Bn",
    "executionInfo": {
     "status": "ok",
     "timestamp": 1673023332522,
     "user_tz": 300,
     "elapsed": 167,
     "user": {
      "displayName": "Sohrab Alex Mofid",
      "userId": "16250439725720827410"
     }
    },
    "outputId": "5721c455-2e02-489e-8b79-9f4c5d9f0a89",
    "pycharm": {
     "name": "#%%\n"
    }
   },
   "execution_count": 20,
   "outputs": [
    {
     "output_type": "execute_result",
     "data": {
      "text/plain": [
       "   credit.policy             purpose  int.rate  installment  log.annual.inc  \\\n",
       "0              1  debt_consolidation    0.1189       829.10       11.350407   \n",
       "1              1         credit_card    0.1071       228.22       11.082143   \n",
       "2              1  debt_consolidation    0.1357       366.86       10.373491   \n",
       "3              1  debt_consolidation    0.1008       162.34       11.350407   \n",
       "4              1         credit_card    0.1426       102.92       11.299732   \n",
       "5              1         credit_card    0.0788       125.13       11.904968   \n",
       "6              1  debt_consolidation    0.1496       194.02       10.714418   \n",
       "7              1           all_other    0.1114       131.22       11.002100   \n",
       "8              1    home_improvement    0.1134        87.19       11.407565   \n",
       "9              1  debt_consolidation    0.1221        84.12       10.203592   \n",
       "\n",
       "     dti  fico  days.with.cr.line  revol.bal  revol.util  inq.last.6mths  \\\n",
       "0  19.48   737        5639.958333      28854        52.1               0   \n",
       "1  14.29   707        2760.000000      33623        76.7               0   \n",
       "2  11.63   682        4710.000000       3511        25.6               1   \n",
       "3   8.10   712        2699.958333      33667        73.2               1   \n",
       "4  14.97   667        4066.000000       4740        39.5               0   \n",
       "5  16.98   727        6120.041667      50807        51.0               0   \n",
       "6   4.00   667        3180.041667       3839        76.8               0   \n",
       "7  11.08   722        5116.000000      24220        68.6               0   \n",
       "8  17.25   682        3989.000000      69909        51.1               1   \n",
       "9  10.00   707        2730.041667       5630        23.0               1   \n",
       "\n",
       "   delinq.2yrs  pub.rec  not.fully.paid  \n",
       "0            0        0               0  \n",
       "1            0        0               0  \n",
       "2            0        0               0  \n",
       "3            0        0               0  \n",
       "4            1        0               0  \n",
       "5            0        0               0  \n",
       "6            0        1               1  \n",
       "7            0        0               1  \n",
       "8            0        0               0  \n",
       "9            0        0               0  "
      ],
      "text/html": [
       "\n",
       "  <div id=\"df-827c4a56-19cc-4735-8101-cc45e35c0f24\">\n",
       "    <div class=\"colab-df-container\">\n",
       "      <div>\n",
       "<style scoped>\n",
       "    .dataframe tbody tr th:only-of-type {\n",
       "        vertical-align: middle;\n",
       "    }\n",
       "\n",
       "    .dataframe tbody tr th {\n",
       "        vertical-align: top;\n",
       "    }\n",
       "\n",
       "    .dataframe thead th {\n",
       "        text-align: right;\n",
       "    }\n",
       "</style>\n",
       "<table border=\"1\" class=\"dataframe\">\n",
       "  <thead>\n",
       "    <tr style=\"text-align: right;\">\n",
       "      <th></th>\n",
       "      <th>credit.policy</th>\n",
       "      <th>purpose</th>\n",
       "      <th>int.rate</th>\n",
       "      <th>installment</th>\n",
       "      <th>log.annual.inc</th>\n",
       "      <th>dti</th>\n",
       "      <th>fico</th>\n",
       "      <th>days.with.cr.line</th>\n",
       "      <th>revol.bal</th>\n",
       "      <th>revol.util</th>\n",
       "      <th>inq.last.6mths</th>\n",
       "      <th>delinq.2yrs</th>\n",
       "      <th>pub.rec</th>\n",
       "      <th>not.fully.paid</th>\n",
       "    </tr>\n",
       "  </thead>\n",
       "  <tbody>\n",
       "    <tr>\n",
       "      <th>0</th>\n",
       "      <td>1</td>\n",
       "      <td>debt_consolidation</td>\n",
       "      <td>0.1189</td>\n",
       "      <td>829.10</td>\n",
       "      <td>11.350407</td>\n",
       "      <td>19.48</td>\n",
       "      <td>737</td>\n",
       "      <td>5639.958333</td>\n",
       "      <td>28854</td>\n",
       "      <td>52.1</td>\n",
       "      <td>0</td>\n",
       "      <td>0</td>\n",
       "      <td>0</td>\n",
       "      <td>0</td>\n",
       "    </tr>\n",
       "    <tr>\n",
       "      <th>1</th>\n",
       "      <td>1</td>\n",
       "      <td>credit_card</td>\n",
       "      <td>0.1071</td>\n",
       "      <td>228.22</td>\n",
       "      <td>11.082143</td>\n",
       "      <td>14.29</td>\n",
       "      <td>707</td>\n",
       "      <td>2760.000000</td>\n",
       "      <td>33623</td>\n",
       "      <td>76.7</td>\n",
       "      <td>0</td>\n",
       "      <td>0</td>\n",
       "      <td>0</td>\n",
       "      <td>0</td>\n",
       "    </tr>\n",
       "    <tr>\n",
       "      <th>2</th>\n",
       "      <td>1</td>\n",
       "      <td>debt_consolidation</td>\n",
       "      <td>0.1357</td>\n",
       "      <td>366.86</td>\n",
       "      <td>10.373491</td>\n",
       "      <td>11.63</td>\n",
       "      <td>682</td>\n",
       "      <td>4710.000000</td>\n",
       "      <td>3511</td>\n",
       "      <td>25.6</td>\n",
       "      <td>1</td>\n",
       "      <td>0</td>\n",
       "      <td>0</td>\n",
       "      <td>0</td>\n",
       "    </tr>\n",
       "    <tr>\n",
       "      <th>3</th>\n",
       "      <td>1</td>\n",
       "      <td>debt_consolidation</td>\n",
       "      <td>0.1008</td>\n",
       "      <td>162.34</td>\n",
       "      <td>11.350407</td>\n",
       "      <td>8.10</td>\n",
       "      <td>712</td>\n",
       "      <td>2699.958333</td>\n",
       "      <td>33667</td>\n",
       "      <td>73.2</td>\n",
       "      <td>1</td>\n",
       "      <td>0</td>\n",
       "      <td>0</td>\n",
       "      <td>0</td>\n",
       "    </tr>\n",
       "    <tr>\n",
       "      <th>4</th>\n",
       "      <td>1</td>\n",
       "      <td>credit_card</td>\n",
       "      <td>0.1426</td>\n",
       "      <td>102.92</td>\n",
       "      <td>11.299732</td>\n",
       "      <td>14.97</td>\n",
       "      <td>667</td>\n",
       "      <td>4066.000000</td>\n",
       "      <td>4740</td>\n",
       "      <td>39.5</td>\n",
       "      <td>0</td>\n",
       "      <td>1</td>\n",
       "      <td>0</td>\n",
       "      <td>0</td>\n",
       "    </tr>\n",
       "    <tr>\n",
       "      <th>5</th>\n",
       "      <td>1</td>\n",
       "      <td>credit_card</td>\n",
       "      <td>0.0788</td>\n",
       "      <td>125.13</td>\n",
       "      <td>11.904968</td>\n",
       "      <td>16.98</td>\n",
       "      <td>727</td>\n",
       "      <td>6120.041667</td>\n",
       "      <td>50807</td>\n",
       "      <td>51.0</td>\n",
       "      <td>0</td>\n",
       "      <td>0</td>\n",
       "      <td>0</td>\n",
       "      <td>0</td>\n",
       "    </tr>\n",
       "    <tr>\n",
       "      <th>6</th>\n",
       "      <td>1</td>\n",
       "      <td>debt_consolidation</td>\n",
       "      <td>0.1496</td>\n",
       "      <td>194.02</td>\n",
       "      <td>10.714418</td>\n",
       "      <td>4.00</td>\n",
       "      <td>667</td>\n",
       "      <td>3180.041667</td>\n",
       "      <td>3839</td>\n",
       "      <td>76.8</td>\n",
       "      <td>0</td>\n",
       "      <td>0</td>\n",
       "      <td>1</td>\n",
       "      <td>1</td>\n",
       "    </tr>\n",
       "    <tr>\n",
       "      <th>7</th>\n",
       "      <td>1</td>\n",
       "      <td>all_other</td>\n",
       "      <td>0.1114</td>\n",
       "      <td>131.22</td>\n",
       "      <td>11.002100</td>\n",
       "      <td>11.08</td>\n",
       "      <td>722</td>\n",
       "      <td>5116.000000</td>\n",
       "      <td>24220</td>\n",
       "      <td>68.6</td>\n",
       "      <td>0</td>\n",
       "      <td>0</td>\n",
       "      <td>0</td>\n",
       "      <td>1</td>\n",
       "    </tr>\n",
       "    <tr>\n",
       "      <th>8</th>\n",
       "      <td>1</td>\n",
       "      <td>home_improvement</td>\n",
       "      <td>0.1134</td>\n",
       "      <td>87.19</td>\n",
       "      <td>11.407565</td>\n",
       "      <td>17.25</td>\n",
       "      <td>682</td>\n",
       "      <td>3989.000000</td>\n",
       "      <td>69909</td>\n",
       "      <td>51.1</td>\n",
       "      <td>1</td>\n",
       "      <td>0</td>\n",
       "      <td>0</td>\n",
       "      <td>0</td>\n",
       "    </tr>\n",
       "    <tr>\n",
       "      <th>9</th>\n",
       "      <td>1</td>\n",
       "      <td>debt_consolidation</td>\n",
       "      <td>0.1221</td>\n",
       "      <td>84.12</td>\n",
       "      <td>10.203592</td>\n",
       "      <td>10.00</td>\n",
       "      <td>707</td>\n",
       "      <td>2730.041667</td>\n",
       "      <td>5630</td>\n",
       "      <td>23.0</td>\n",
       "      <td>1</td>\n",
       "      <td>0</td>\n",
       "      <td>0</td>\n",
       "      <td>0</td>\n",
       "    </tr>\n",
       "  </tbody>\n",
       "</table>\n",
       "</div>\n",
       "      <button class=\"colab-df-convert\" onclick=\"convertToInteractive('df-827c4a56-19cc-4735-8101-cc45e35c0f24')\"\n",
       "              title=\"Convert this dataframe to an interactive table.\"\n",
       "              style=\"display:none;\">\n",
       "        \n",
       "  <svg xmlns=\"http://www.w3.org/2000/svg\" height=\"24px\"viewBox=\"0 0 24 24\"\n",
       "       width=\"24px\">\n",
       "    <path d=\"M0 0h24v24H0V0z\" fill=\"none\"/>\n",
       "    <path d=\"M18.56 5.44l.94 2.06.94-2.06 2.06-.94-2.06-.94-.94-2.06-.94 2.06-2.06.94zm-11 1L8.5 8.5l.94-2.06 2.06-.94-2.06-.94L8.5 2.5l-.94 2.06-2.06.94zm10 10l.94 2.06.94-2.06 2.06-.94-2.06-.94-.94-2.06-.94 2.06-2.06.94z\"/><path d=\"M17.41 7.96l-1.37-1.37c-.4-.4-.92-.59-1.43-.59-.52 0-1.04.2-1.43.59L10.3 9.45l-7.72 7.72c-.78.78-.78 2.05 0 2.83L4 21.41c.39.39.9.59 1.41.59.51 0 1.02-.2 1.41-.59l7.78-7.78 2.81-2.81c.8-.78.8-2.07 0-2.86zM5.41 20L4 18.59l7.72-7.72 1.47 1.35L5.41 20z\"/>\n",
       "  </svg>\n",
       "      </button>\n",
       "      \n",
       "  <style>\n",
       "    .colab-df-container {\n",
       "      display:flex;\n",
       "      flex-wrap:wrap;\n",
       "      gap: 12px;\n",
       "    }\n",
       "\n",
       "    .colab-df-convert {\n",
       "      background-color: #E8F0FE;\n",
       "      border: none;\n",
       "      border-radius: 50%;\n",
       "      cursor: pointer;\n",
       "      display: none;\n",
       "      fill: #1967D2;\n",
       "      height: 32px;\n",
       "      padding: 0 0 0 0;\n",
       "      width: 32px;\n",
       "    }\n",
       "\n",
       "    .colab-df-convert:hover {\n",
       "      background-color: #E2EBFA;\n",
       "      box-shadow: 0px 1px 2px rgba(60, 64, 67, 0.3), 0px 1px 3px 1px rgba(60, 64, 67, 0.15);\n",
       "      fill: #174EA6;\n",
       "    }\n",
       "\n",
       "    [theme=dark] .colab-df-convert {\n",
       "      background-color: #3B4455;\n",
       "      fill: #D2E3FC;\n",
       "    }\n",
       "\n",
       "    [theme=dark] .colab-df-convert:hover {\n",
       "      background-color: #434B5C;\n",
       "      box-shadow: 0px 1px 3px 1px rgba(0, 0, 0, 0.15);\n",
       "      filter: drop-shadow(0px 1px 2px rgba(0, 0, 0, 0.3));\n",
       "      fill: #FFFFFF;\n",
       "    }\n",
       "  </style>\n",
       "\n",
       "      <script>\n",
       "        const buttonEl =\n",
       "          document.querySelector('#df-827c4a56-19cc-4735-8101-cc45e35c0f24 button.colab-df-convert');\n",
       "        buttonEl.style.display =\n",
       "          google.colab.kernel.accessAllowed ? 'block' : 'none';\n",
       "\n",
       "        async function convertToInteractive(key) {\n",
       "          const element = document.querySelector('#df-827c4a56-19cc-4735-8101-cc45e35c0f24');\n",
       "          const dataTable =\n",
       "            await google.colab.kernel.invokeFunction('convertToInteractive',\n",
       "                                                     [key], {});\n",
       "          if (!dataTable) return;\n",
       "\n",
       "          const docLinkHtml = 'Like what you see? Visit the ' +\n",
       "            '<a target=\"_blank\" href=https://colab.research.google.com/notebooks/data_table.ipynb>data table notebook</a>'\n",
       "            + ' to learn more about interactive tables.';\n",
       "          element.innerHTML = '';\n",
       "          dataTable['output_type'] = 'display_data';\n",
       "          await google.colab.output.renderOutput(dataTable, element);\n",
       "          const docLink = document.createElement('div');\n",
       "          docLink.innerHTML = docLinkHtml;\n",
       "          element.appendChild(docLink);\n",
       "        }\n",
       "      </script>\n",
       "    </div>\n",
       "  </div>\n",
       "  "
      ]
     },
     "metadata": {},
     "execution_count": 20
    }
   ]
  },
  {
   "cell_type": "code",
   "source": [
    "df.shape"
   ],
   "metadata": {
    "colab": {
     "base_uri": "https://localhost:8080/",
     "height": 0
    },
    "id": "2OueYnzUIaAz",
    "executionInfo": {
     "status": "ok",
     "timestamp": 1673023334739,
     "user_tz": 300,
     "elapsed": 156,
     "user": {
      "displayName": "Sohrab Alex Mofid",
      "userId": "16250439725720827410"
     }
    },
    "outputId": "3da73532-da61-4472-e11e-d229a2849a20",
    "pycharm": {
     "name": "#%%\n"
    }
   },
   "execution_count": 21,
   "outputs": [
    {
     "output_type": "execute_result",
     "data": {
      "text/plain": [
       "(9578, 14)"
      ]
     },
     "metadata": {},
     "execution_count": 21
    }
   ]
  },
  {
   "cell_type": "code",
   "source": [
    "df.info()"
   ],
   "metadata": {
    "colab": {
     "base_uri": "https://localhost:8080/",
     "height": 0
    },
    "id": "SHRHRw4iIce4",
    "executionInfo": {
     "status": "ok",
     "timestamp": 1673023335714,
     "user_tz": 300,
     "elapsed": 3,
     "user": {
      "displayName": "Sohrab Alex Mofid",
      "userId": "16250439725720827410"
     }
    },
    "outputId": "459f1adb-c683-4064-cbc7-16008835683f",
    "pycharm": {
     "name": "#%%\n"
    }
   },
   "execution_count": 22,
   "outputs": [
    {
     "output_type": "stream",
     "name": "stdout",
     "text": [
      "<class 'pandas.core.frame.DataFrame'>\n",
      "RangeIndex: 9578 entries, 0 to 9577\n",
      "Data columns (total 14 columns):\n",
      " #   Column             Non-Null Count  Dtype  \n",
      "---  ------             --------------  -----  \n",
      " 0   credit.policy      9578 non-null   int64  \n",
      " 1   purpose            9578 non-null   object \n",
      " 2   int.rate           9578 non-null   float64\n",
      " 3   installment        9578 non-null   float64\n",
      " 4   log.annual.inc     9578 non-null   float64\n",
      " 5   dti                9578 non-null   float64\n",
      " 6   fico               9578 non-null   int64  \n",
      " 7   days.with.cr.line  9578 non-null   float64\n",
      " 8   revol.bal          9578 non-null   int64  \n",
      " 9   revol.util         9578 non-null   float64\n",
      " 10  inq.last.6mths     9578 non-null   int64  \n",
      " 11  delinq.2yrs        9578 non-null   int64  \n",
      " 12  pub.rec            9578 non-null   int64  \n",
      " 13  not.fully.paid     9578 non-null   int64  \n",
      "dtypes: float64(6), int64(7), object(1)\n",
      "memory usage: 1.0+ MB\n"
     ]
    }
   ]
  },
  {
   "cell_type": "code",
   "source": [
    "df['not.fully.paid'].value_counts()"
   ],
   "metadata": {
    "colab": {
     "base_uri": "https://localhost:8080/",
     "height": 0
    },
    "id": "TeF4rRw7Ie0P",
    "executionInfo": {
     "status": "ok",
     "timestamp": 1673023337854,
     "user_tz": 300,
     "elapsed": 178,
     "user": {
      "displayName": "Sohrab Alex Mofid",
      "userId": "16250439725720827410"
     }
    },
    "outputId": "6d8f7758-ce3b-4ace-8257-a2533330a99b",
    "pycharm": {
     "name": "#%%\n"
    }
   },
   "execution_count": 23,
   "outputs": [
    {
     "output_type": "execute_result",
     "data": {
      "text/plain": [
       "0    8045\n",
       "1    1533\n",
       "Name: not.fully.paid, dtype: int64"
      ]
     },
     "metadata": {},
     "execution_count": 23
    }
   ]
  },
  {
   "cell_type": "code",
   "source": [
    "# The target variable is highly imbalanced, so it needs to be handled first\n",
    "not_fully_paid_0 = df[df['not.fully.paid'] == 0]\n",
    "not_fully_paid_1 = df[df['not.fully.paid'] == 1]\n",
    "\n",
    "print(not_fully_paid_0.shape)\n",
    "print(not_fully_paid_1.shape)"
   ],
   "metadata": {
    "colab": {
     "base_uri": "https://localhost:8080/",
     "height": 0
    },
    "id": "QnFqNo56Ig__",
    "executionInfo": {
     "status": "ok",
     "timestamp": 1673023339575,
     "user_tz": 300,
     "elapsed": 157,
     "user": {
      "displayName": "Sohrab Alex Mofid",
      "userId": "16250439725720827410"
     }
    },
    "outputId": "ee1a4121-1fa9-46a2-f05d-dc7aebe9ce22",
    "pycharm": {
     "name": "#%%\n"
    }
   },
   "execution_count": 24,
   "outputs": [
    {
     "output_type": "stream",
     "name": "stdout",
     "text": [
      "(8045, 14)\n",
      "(1533, 14)\n"
     ]
    }
   ]
  },
  {
   "cell_type": "code",
   "source": [
    "# handling the imbalance\n",
    "from sklearn.utils import resample \n",
    "df_minority_not_fully_paid = resample(not_fully_paid_1, replace=True, n_samples = 8045)\n",
    "df = pd.concat([not_fully_paid_0, df_minority_not_fully_paid])\n",
    "\n",
    "from sklearn.utils import shuffle\n",
    "df= shuffle(df)"
   ],
   "metadata": {
    "id": "Ui1OcJqwIo3n",
    "executionInfo": {
     "status": "ok",
     "timestamp": 1673023341544,
     "user_tz": 300,
     "elapsed": 176,
     "user": {
      "displayName": "Sohrab Alex Mofid",
      "userId": "16250439725720827410"
     }
    },
    "pycharm": {
     "name": "#%%\n"
    }
   },
   "execution_count": 25,
   "outputs": []
  },
  {
   "cell_type": "code",
   "source": [
    "df['not.fully.paid'].value_counts()"
   ],
   "metadata": {
    "colab": {
     "base_uri": "https://localhost:8080/",
     "height": 0
    },
    "id": "a8XM90ZmIrWJ",
    "executionInfo": {
     "status": "ok",
     "timestamp": 1673023343677,
     "user_tz": 300,
     "elapsed": 177,
     "user": {
      "displayName": "Sohrab Alex Mofid",
      "userId": "16250439725720827410"
     }
    },
    "outputId": "e2b9d5f6-bfb8-4fcd-ee1d-64833806fca9",
    "pycharm": {
     "name": "#%%\n"
    }
   },
   "execution_count": 26,
   "outputs": [
    {
     "output_type": "execute_result",
     "data": {
      "text/plain": [
       "1    8045\n",
       "0    8045\n",
       "Name: not.fully.paid, dtype: int64"
      ]
     },
     "metadata": {},
     "execution_count": 26
    }
   ]
  },
  {
   "cell_type": "code",
   "source": [
    "num_data = df[['int.rate','installment','log.annual.inc','dti', 'fico','days.with.cr.line','revol.bal','revol.util','not.fully.paid']]\n",
    "num_data"
   ],
   "metadata": {
    "colab": {
     "base_uri": "https://localhost:8080/",
     "height": 424
    },
    "id": "wBh4wQCDItLw",
    "executionInfo": {
     "status": "ok",
     "timestamp": 1673023345323,
     "user_tz": 300,
     "elapsed": 177,
     "user": {
      "displayName": "Sohrab Alex Mofid",
      "userId": "16250439725720827410"
     }
    },
    "outputId": "fdd565d1-4f90-463f-c31e-94fe9c838f39",
    "pycharm": {
     "name": "#%%\n"
    }
   },
   "execution_count": 27,
   "outputs": [
    {
     "output_type": "execute_result",
     "data": {
      "text/plain": [
       "      int.rate  installment  log.annual.inc    dti  fico  days.with.cr.line  \\\n",
       "8463    0.1450       258.16       10.778956  19.63   657        4379.958333   \n",
       "4770    0.1461       206.86       10.562354  12.76   767        5610.000000   \n",
       "2943    0.1221       666.30       11.661380   9.22   807        7439.958333   \n",
       "1885    0.1189       265.32       11.002100  17.24   707        4770.000000   \n",
       "4781    0.1218       566.10       11.058858  15.80   717        6240.000000   \n",
       "...        ...          ...             ...    ...   ...                ...   \n",
       "7899    0.1154       131.99        9.825526   1.30   667        2910.000000   \n",
       "8211    0.1772       360.13       11.306848  25.91   657        2430.041667   \n",
       "9547    0.1607       147.82        9.862666  16.19   667        1260.041667   \n",
       "9157    0.1821       174.05       10.595634  13.27   667        2550.000000   \n",
       "2466    0.1189       331.64       11.350407  11.86   732        6481.000000   \n",
       "\n",
       "      revol.bal  revol.util  not.fully.paid  \n",
       "8463      45076        56.8               1  \n",
       "4770       4031        39.1               1  \n",
       "2943          0         0.0               0  \n",
       "1885       5476        46.4               1  \n",
       "4781      21441        80.6               1  \n",
       "...         ...         ...             ...  \n",
       "7899        258        86.0               1  \n",
       "8211      41603        81.1               1  \n",
       "9547       4445        53.5               1  \n",
       "9157       6395        59.2               1  \n",
       "2466      35166        67.2               0  \n",
       "\n",
       "[16090 rows x 9 columns]"
      ],
      "text/html": [
       "\n",
       "  <div id=\"df-4534bca6-dc83-4e7c-8955-19cc1220a567\">\n",
       "    <div class=\"colab-df-container\">\n",
       "      <div>\n",
       "<style scoped>\n",
       "    .dataframe tbody tr th:only-of-type {\n",
       "        vertical-align: middle;\n",
       "    }\n",
       "\n",
       "    .dataframe tbody tr th {\n",
       "        vertical-align: top;\n",
       "    }\n",
       "\n",
       "    .dataframe thead th {\n",
       "        text-align: right;\n",
       "    }\n",
       "</style>\n",
       "<table border=\"1\" class=\"dataframe\">\n",
       "  <thead>\n",
       "    <tr style=\"text-align: right;\">\n",
       "      <th></th>\n",
       "      <th>int.rate</th>\n",
       "      <th>installment</th>\n",
       "      <th>log.annual.inc</th>\n",
       "      <th>dti</th>\n",
       "      <th>fico</th>\n",
       "      <th>days.with.cr.line</th>\n",
       "      <th>revol.bal</th>\n",
       "      <th>revol.util</th>\n",
       "      <th>not.fully.paid</th>\n",
       "    </tr>\n",
       "  </thead>\n",
       "  <tbody>\n",
       "    <tr>\n",
       "      <th>8463</th>\n",
       "      <td>0.1450</td>\n",
       "      <td>258.16</td>\n",
       "      <td>10.778956</td>\n",
       "      <td>19.63</td>\n",
       "      <td>657</td>\n",
       "      <td>4379.958333</td>\n",
       "      <td>45076</td>\n",
       "      <td>56.8</td>\n",
       "      <td>1</td>\n",
       "    </tr>\n",
       "    <tr>\n",
       "      <th>4770</th>\n",
       "      <td>0.1461</td>\n",
       "      <td>206.86</td>\n",
       "      <td>10.562354</td>\n",
       "      <td>12.76</td>\n",
       "      <td>767</td>\n",
       "      <td>5610.000000</td>\n",
       "      <td>4031</td>\n",
       "      <td>39.1</td>\n",
       "      <td>1</td>\n",
       "    </tr>\n",
       "    <tr>\n",
       "      <th>2943</th>\n",
       "      <td>0.1221</td>\n",
       "      <td>666.30</td>\n",
       "      <td>11.661380</td>\n",
       "      <td>9.22</td>\n",
       "      <td>807</td>\n",
       "      <td>7439.958333</td>\n",
       "      <td>0</td>\n",
       "      <td>0.0</td>\n",
       "      <td>0</td>\n",
       "    </tr>\n",
       "    <tr>\n",
       "      <th>1885</th>\n",
       "      <td>0.1189</td>\n",
       "      <td>265.32</td>\n",
       "      <td>11.002100</td>\n",
       "      <td>17.24</td>\n",
       "      <td>707</td>\n",
       "      <td>4770.000000</td>\n",
       "      <td>5476</td>\n",
       "      <td>46.4</td>\n",
       "      <td>1</td>\n",
       "    </tr>\n",
       "    <tr>\n",
       "      <th>4781</th>\n",
       "      <td>0.1218</td>\n",
       "      <td>566.10</td>\n",
       "      <td>11.058858</td>\n",
       "      <td>15.80</td>\n",
       "      <td>717</td>\n",
       "      <td>6240.000000</td>\n",
       "      <td>21441</td>\n",
       "      <td>80.6</td>\n",
       "      <td>1</td>\n",
       "    </tr>\n",
       "    <tr>\n",
       "      <th>...</th>\n",
       "      <td>...</td>\n",
       "      <td>...</td>\n",
       "      <td>...</td>\n",
       "      <td>...</td>\n",
       "      <td>...</td>\n",
       "      <td>...</td>\n",
       "      <td>...</td>\n",
       "      <td>...</td>\n",
       "      <td>...</td>\n",
       "    </tr>\n",
       "    <tr>\n",
       "      <th>7899</th>\n",
       "      <td>0.1154</td>\n",
       "      <td>131.99</td>\n",
       "      <td>9.825526</td>\n",
       "      <td>1.30</td>\n",
       "      <td>667</td>\n",
       "      <td>2910.000000</td>\n",
       "      <td>258</td>\n",
       "      <td>86.0</td>\n",
       "      <td>1</td>\n",
       "    </tr>\n",
       "    <tr>\n",
       "      <th>8211</th>\n",
       "      <td>0.1772</td>\n",
       "      <td>360.13</td>\n",
       "      <td>11.306848</td>\n",
       "      <td>25.91</td>\n",
       "      <td>657</td>\n",
       "      <td>2430.041667</td>\n",
       "      <td>41603</td>\n",
       "      <td>81.1</td>\n",
       "      <td>1</td>\n",
       "    </tr>\n",
       "    <tr>\n",
       "      <th>9547</th>\n",
       "      <td>0.1607</td>\n",
       "      <td>147.82</td>\n",
       "      <td>9.862666</td>\n",
       "      <td>16.19</td>\n",
       "      <td>667</td>\n",
       "      <td>1260.041667</td>\n",
       "      <td>4445</td>\n",
       "      <td>53.5</td>\n",
       "      <td>1</td>\n",
       "    </tr>\n",
       "    <tr>\n",
       "      <th>9157</th>\n",
       "      <td>0.1821</td>\n",
       "      <td>174.05</td>\n",
       "      <td>10.595634</td>\n",
       "      <td>13.27</td>\n",
       "      <td>667</td>\n",
       "      <td>2550.000000</td>\n",
       "      <td>6395</td>\n",
       "      <td>59.2</td>\n",
       "      <td>1</td>\n",
       "    </tr>\n",
       "    <tr>\n",
       "      <th>2466</th>\n",
       "      <td>0.1189</td>\n",
       "      <td>331.64</td>\n",
       "      <td>11.350407</td>\n",
       "      <td>11.86</td>\n",
       "      <td>732</td>\n",
       "      <td>6481.000000</td>\n",
       "      <td>35166</td>\n",
       "      <td>67.2</td>\n",
       "      <td>0</td>\n",
       "    </tr>\n",
       "  </tbody>\n",
       "</table>\n",
       "<p>16090 rows × 9 columns</p>\n",
       "</div>\n",
       "      <button class=\"colab-df-convert\" onclick=\"convertToInteractive('df-4534bca6-dc83-4e7c-8955-19cc1220a567')\"\n",
       "              title=\"Convert this dataframe to an interactive table.\"\n",
       "              style=\"display:none;\">\n",
       "        \n",
       "  <svg xmlns=\"http://www.w3.org/2000/svg\" height=\"24px\"viewBox=\"0 0 24 24\"\n",
       "       width=\"24px\">\n",
       "    <path d=\"M0 0h24v24H0V0z\" fill=\"none\"/>\n",
       "    <path d=\"M18.56 5.44l.94 2.06.94-2.06 2.06-.94-2.06-.94-.94-2.06-.94 2.06-2.06.94zm-11 1L8.5 8.5l.94-2.06 2.06-.94-2.06-.94L8.5 2.5l-.94 2.06-2.06.94zm10 10l.94 2.06.94-2.06 2.06-.94-2.06-.94-.94-2.06-.94 2.06-2.06.94z\"/><path d=\"M17.41 7.96l-1.37-1.37c-.4-.4-.92-.59-1.43-.59-.52 0-1.04.2-1.43.59L10.3 9.45l-7.72 7.72c-.78.78-.78 2.05 0 2.83L4 21.41c.39.39.9.59 1.41.59.51 0 1.02-.2 1.41-.59l7.78-7.78 2.81-2.81c.8-.78.8-2.07 0-2.86zM5.41 20L4 18.59l7.72-7.72 1.47 1.35L5.41 20z\"/>\n",
       "  </svg>\n",
       "      </button>\n",
       "      \n",
       "  <style>\n",
       "    .colab-df-container {\n",
       "      display:flex;\n",
       "      flex-wrap:wrap;\n",
       "      gap: 12px;\n",
       "    }\n",
       "\n",
       "    .colab-df-convert {\n",
       "      background-color: #E8F0FE;\n",
       "      border: none;\n",
       "      border-radius: 50%;\n",
       "      cursor: pointer;\n",
       "      display: none;\n",
       "      fill: #1967D2;\n",
       "      height: 32px;\n",
       "      padding: 0 0 0 0;\n",
       "      width: 32px;\n",
       "    }\n",
       "\n",
       "    .colab-df-convert:hover {\n",
       "      background-color: #E2EBFA;\n",
       "      box-shadow: 0px 1px 2px rgba(60, 64, 67, 0.3), 0px 1px 3px 1px rgba(60, 64, 67, 0.15);\n",
       "      fill: #174EA6;\n",
       "    }\n",
       "\n",
       "    [theme=dark] .colab-df-convert {\n",
       "      background-color: #3B4455;\n",
       "      fill: #D2E3FC;\n",
       "    }\n",
       "\n",
       "    [theme=dark] .colab-df-convert:hover {\n",
       "      background-color: #434B5C;\n",
       "      box-shadow: 0px 1px 3px 1px rgba(0, 0, 0, 0.15);\n",
       "      filter: drop-shadow(0px 1px 2px rgba(0, 0, 0, 0.3));\n",
       "      fill: #FFFFFF;\n",
       "    }\n",
       "  </style>\n",
       "\n",
       "      <script>\n",
       "        const buttonEl =\n",
       "          document.querySelector('#df-4534bca6-dc83-4e7c-8955-19cc1220a567 button.colab-df-convert');\n",
       "        buttonEl.style.display =\n",
       "          google.colab.kernel.accessAllowed ? 'block' : 'none';\n",
       "\n",
       "        async function convertToInteractive(key) {\n",
       "          const element = document.querySelector('#df-4534bca6-dc83-4e7c-8955-19cc1220a567');\n",
       "          const dataTable =\n",
       "            await google.colab.kernel.invokeFunction('convertToInteractive',\n",
       "                                                     [key], {});\n",
       "          if (!dataTable) return;\n",
       "\n",
       "          const docLinkHtml = 'Like what you see? Visit the ' +\n",
       "            '<a target=\"_blank\" href=https://colab.research.google.com/notebooks/data_table.ipynb>data table notebook</a>'\n",
       "            + ' to learn more about interactive tables.';\n",
       "          element.innerHTML = '';\n",
       "          dataTable['output_type'] = 'display_data';\n",
       "          await google.colab.output.renderOutput(dataTable, element);\n",
       "          const docLink = document.createElement('div');\n",
       "          docLink.innerHTML = docLinkHtml;\n",
       "          element.appendChild(docLink);\n",
       "        }\n",
       "      </script>\n",
       "    </div>\n",
       "  </div>\n",
       "  "
      ]
     },
     "metadata": {},
     "execution_count": 27
    }
   ]
  },
  {
   "cell_type": "code",
   "source": [
    "num_data_features = num_data.columns\n",
    "num_data_features"
   ],
   "metadata": {
    "colab": {
     "base_uri": "https://localhost:8080/",
     "height": 0
    },
    "id": "_hytqS3aIwL-",
    "executionInfo": {
     "status": "ok",
     "timestamp": 1673023347361,
     "user_tz": 300,
     "elapsed": 4,
     "user": {
      "displayName": "Sohrab Alex Mofid",
      "userId": "16250439725720827410"
     }
    },
    "outputId": "305179de-6ade-4ace-a0f8-948e193e6be7",
    "pycharm": {
     "name": "#%%\n"
    }
   },
   "execution_count": 28,
   "outputs": [
    {
     "output_type": "execute_result",
     "data": {
      "text/plain": [
       "Index(['int.rate', 'installment', 'log.annual.inc', 'dti', 'fico',\n",
       "       'days.with.cr.line', 'revol.bal', 'revol.util', 'not.fully.paid'],\n",
       "      dtype='object')"
      ]
     },
     "metadata": {},
     "execution_count": 28
    }
   ]
  },
  {
   "cell_type": "code",
   "source": [
    "cat_data = df[[\"credit.policy\", \"purpose\", \"inq.last.6mths\", \"delinq.2yrs\", \"not.fully.paid\"]]\n",
    "cat_data"
   ],
   "metadata": {
    "colab": {
     "base_uri": "https://localhost:8080/",
     "height": 424
    },
    "id": "TJtzjjMTJBBe",
    "executionInfo": {
     "status": "ok",
     "timestamp": 1673023348978,
     "user_tz": 300,
     "elapsed": 159,
     "user": {
      "displayName": "Sohrab Alex Mofid",
      "userId": "16250439725720827410"
     }
    },
    "outputId": "8386fc76-af8b-40aa-da36-dc68af0d5fe2",
    "pycharm": {
     "name": "#%%\n"
    }
   },
   "execution_count": 29,
   "outputs": [
    {
     "output_type": "execute_result",
     "data": {
      "text/plain": [
       "      credit.policy             purpose  inq.last.6mths  delinq.2yrs  \\\n",
       "8463              0           all_other               6            0   \n",
       "4770              1      small_business               5            0   \n",
       "2943              1    home_improvement               2            0   \n",
       "1885              1  debt_consolidation               0            0   \n",
       "4781              1  debt_consolidation               1            0   \n",
       "...             ...                 ...             ...          ...   \n",
       "7899              0  debt_consolidation               2            0   \n",
       "8211              0  debt_consolidation               0            0   \n",
       "9547              0         educational               4            0   \n",
       "9157              0           all_other               9            0   \n",
       "2466              1      major_purchase               0            0   \n",
       "\n",
       "      not.fully.paid  \n",
       "8463               1  \n",
       "4770               1  \n",
       "2943               0  \n",
       "1885               1  \n",
       "4781               1  \n",
       "...              ...  \n",
       "7899               1  \n",
       "8211               1  \n",
       "9547               1  \n",
       "9157               1  \n",
       "2466               0  \n",
       "\n",
       "[16090 rows x 5 columns]"
      ],
      "text/html": [
       "\n",
       "  <div id=\"df-c363a87f-0bd5-4b6c-adb3-3617d54a4ce6\">\n",
       "    <div class=\"colab-df-container\">\n",
       "      <div>\n",
       "<style scoped>\n",
       "    .dataframe tbody tr th:only-of-type {\n",
       "        vertical-align: middle;\n",
       "    }\n",
       "\n",
       "    .dataframe tbody tr th {\n",
       "        vertical-align: top;\n",
       "    }\n",
       "\n",
       "    .dataframe thead th {\n",
       "        text-align: right;\n",
       "    }\n",
       "</style>\n",
       "<table border=\"1\" class=\"dataframe\">\n",
       "  <thead>\n",
       "    <tr style=\"text-align: right;\">\n",
       "      <th></th>\n",
       "      <th>credit.policy</th>\n",
       "      <th>purpose</th>\n",
       "      <th>inq.last.6mths</th>\n",
       "      <th>delinq.2yrs</th>\n",
       "      <th>not.fully.paid</th>\n",
       "    </tr>\n",
       "  </thead>\n",
       "  <tbody>\n",
       "    <tr>\n",
       "      <th>8463</th>\n",
       "      <td>0</td>\n",
       "      <td>all_other</td>\n",
       "      <td>6</td>\n",
       "      <td>0</td>\n",
       "      <td>1</td>\n",
       "    </tr>\n",
       "    <tr>\n",
       "      <th>4770</th>\n",
       "      <td>1</td>\n",
       "      <td>small_business</td>\n",
       "      <td>5</td>\n",
       "      <td>0</td>\n",
       "      <td>1</td>\n",
       "    </tr>\n",
       "    <tr>\n",
       "      <th>2943</th>\n",
       "      <td>1</td>\n",
       "      <td>home_improvement</td>\n",
       "      <td>2</td>\n",
       "      <td>0</td>\n",
       "      <td>0</td>\n",
       "    </tr>\n",
       "    <tr>\n",
       "      <th>1885</th>\n",
       "      <td>1</td>\n",
       "      <td>debt_consolidation</td>\n",
       "      <td>0</td>\n",
       "      <td>0</td>\n",
       "      <td>1</td>\n",
       "    </tr>\n",
       "    <tr>\n",
       "      <th>4781</th>\n",
       "      <td>1</td>\n",
       "      <td>debt_consolidation</td>\n",
       "      <td>1</td>\n",
       "      <td>0</td>\n",
       "      <td>1</td>\n",
       "    </tr>\n",
       "    <tr>\n",
       "      <th>...</th>\n",
       "      <td>...</td>\n",
       "      <td>...</td>\n",
       "      <td>...</td>\n",
       "      <td>...</td>\n",
       "      <td>...</td>\n",
       "    </tr>\n",
       "    <tr>\n",
       "      <th>7899</th>\n",
       "      <td>0</td>\n",
       "      <td>debt_consolidation</td>\n",
       "      <td>2</td>\n",
       "      <td>0</td>\n",
       "      <td>1</td>\n",
       "    </tr>\n",
       "    <tr>\n",
       "      <th>8211</th>\n",
       "      <td>0</td>\n",
       "      <td>debt_consolidation</td>\n",
       "      <td>0</td>\n",
       "      <td>0</td>\n",
       "      <td>1</td>\n",
       "    </tr>\n",
       "    <tr>\n",
       "      <th>9547</th>\n",
       "      <td>0</td>\n",
       "      <td>educational</td>\n",
       "      <td>4</td>\n",
       "      <td>0</td>\n",
       "      <td>1</td>\n",
       "    </tr>\n",
       "    <tr>\n",
       "      <th>9157</th>\n",
       "      <td>0</td>\n",
       "      <td>all_other</td>\n",
       "      <td>9</td>\n",
       "      <td>0</td>\n",
       "      <td>1</td>\n",
       "    </tr>\n",
       "    <tr>\n",
       "      <th>2466</th>\n",
       "      <td>1</td>\n",
       "      <td>major_purchase</td>\n",
       "      <td>0</td>\n",
       "      <td>0</td>\n",
       "      <td>0</td>\n",
       "    </tr>\n",
       "  </tbody>\n",
       "</table>\n",
       "<p>16090 rows × 5 columns</p>\n",
       "</div>\n",
       "      <button class=\"colab-df-convert\" onclick=\"convertToInteractive('df-c363a87f-0bd5-4b6c-adb3-3617d54a4ce6')\"\n",
       "              title=\"Convert this dataframe to an interactive table.\"\n",
       "              style=\"display:none;\">\n",
       "        \n",
       "  <svg xmlns=\"http://www.w3.org/2000/svg\" height=\"24px\"viewBox=\"0 0 24 24\"\n",
       "       width=\"24px\">\n",
       "    <path d=\"M0 0h24v24H0V0z\" fill=\"none\"/>\n",
       "    <path d=\"M18.56 5.44l.94 2.06.94-2.06 2.06-.94-2.06-.94-.94-2.06-.94 2.06-2.06.94zm-11 1L8.5 8.5l.94-2.06 2.06-.94-2.06-.94L8.5 2.5l-.94 2.06-2.06.94zm10 10l.94 2.06.94-2.06 2.06-.94-2.06-.94-.94-2.06-.94 2.06-2.06.94z\"/><path d=\"M17.41 7.96l-1.37-1.37c-.4-.4-.92-.59-1.43-.59-.52 0-1.04.2-1.43.59L10.3 9.45l-7.72 7.72c-.78.78-.78 2.05 0 2.83L4 21.41c.39.39.9.59 1.41.59.51 0 1.02-.2 1.41-.59l7.78-7.78 2.81-2.81c.8-.78.8-2.07 0-2.86zM5.41 20L4 18.59l7.72-7.72 1.47 1.35L5.41 20z\"/>\n",
       "  </svg>\n",
       "      </button>\n",
       "      \n",
       "  <style>\n",
       "    .colab-df-container {\n",
       "      display:flex;\n",
       "      flex-wrap:wrap;\n",
       "      gap: 12px;\n",
       "    }\n",
       "\n",
       "    .colab-df-convert {\n",
       "      background-color: #E8F0FE;\n",
       "      border: none;\n",
       "      border-radius: 50%;\n",
       "      cursor: pointer;\n",
       "      display: none;\n",
       "      fill: #1967D2;\n",
       "      height: 32px;\n",
       "      padding: 0 0 0 0;\n",
       "      width: 32px;\n",
       "    }\n",
       "\n",
       "    .colab-df-convert:hover {\n",
       "      background-color: #E2EBFA;\n",
       "      box-shadow: 0px 1px 2px rgba(60, 64, 67, 0.3), 0px 1px 3px 1px rgba(60, 64, 67, 0.15);\n",
       "      fill: #174EA6;\n",
       "    }\n",
       "\n",
       "    [theme=dark] .colab-df-convert {\n",
       "      background-color: #3B4455;\n",
       "      fill: #D2E3FC;\n",
       "    }\n",
       "\n",
       "    [theme=dark] .colab-df-convert:hover {\n",
       "      background-color: #434B5C;\n",
       "      box-shadow: 0px 1px 3px 1px rgba(0, 0, 0, 0.15);\n",
       "      filter: drop-shadow(0px 1px 2px rgba(0, 0, 0, 0.3));\n",
       "      fill: #FFFFFF;\n",
       "    }\n",
       "  </style>\n",
       "\n",
       "      <script>\n",
       "        const buttonEl =\n",
       "          document.querySelector('#df-c363a87f-0bd5-4b6c-adb3-3617d54a4ce6 button.colab-df-convert');\n",
       "        buttonEl.style.display =\n",
       "          google.colab.kernel.accessAllowed ? 'block' : 'none';\n",
       "\n",
       "        async function convertToInteractive(key) {\n",
       "          const element = document.querySelector('#df-c363a87f-0bd5-4b6c-adb3-3617d54a4ce6');\n",
       "          const dataTable =\n",
       "            await google.colab.kernel.invokeFunction('convertToInteractive',\n",
       "                                                     [key], {});\n",
       "          if (!dataTable) return;\n",
       "\n",
       "          const docLinkHtml = 'Like what you see? Visit the ' +\n",
       "            '<a target=\"_blank\" href=https://colab.research.google.com/notebooks/data_table.ipynb>data table notebook</a>'\n",
       "            + ' to learn more about interactive tables.';\n",
       "          element.innerHTML = '';\n",
       "          dataTable['output_type'] = 'display_data';\n",
       "          await google.colab.output.renderOutput(dataTable, element);\n",
       "          const docLink = document.createElement('div');\n",
       "          docLink.innerHTML = docLinkHtml;\n",
       "          element.appendChild(docLink);\n",
       "        }\n",
       "      </script>\n",
       "    </div>\n",
       "  </div>\n",
       "  "
      ]
     },
     "metadata": {},
     "execution_count": 29
    }
   ]
  },
  {
   "cell_type": "code",
   "source": [
    "cat_data_features= cat_data.columns\n",
    "cat_data_features"
   ],
   "metadata": {
    "colab": {
     "base_uri": "https://localhost:8080/",
     "height": 0
    },
    "id": "dfHWNNC8JDut",
    "executionInfo": {
     "status": "ok",
     "timestamp": 1673023354568,
     "user_tz": 300,
     "elapsed": 156,
     "user": {
      "displayName": "Sohrab Alex Mofid",
      "userId": "16250439725720827410"
     }
    },
    "outputId": "571150c1-486d-427e-fb50-7e64f747c2ae",
    "pycharm": {
     "name": "#%%\n"
    }
   },
   "execution_count": 30,
   "outputs": [
    {
     "output_type": "execute_result",
     "data": {
      "text/plain": [
       "Index(['credit.policy', 'purpose', 'inq.last.6mths', 'delinq.2yrs',\n",
       "       'not.fully.paid'],\n",
       "      dtype='object')"
      ]
     },
     "metadata": {},
     "execution_count": 30
    }
   ]
  },
  {
   "cell_type": "code",
   "source": [
    "num_data.isnull().sum()"
   ],
   "metadata": {
    "colab": {
     "base_uri": "https://localhost:8080/",
     "height": 0
    },
    "id": "swjem2zEJLrc",
    "executionInfo": {
     "status": "ok",
     "timestamp": 1673023359861,
     "user_tz": 300,
     "elapsed": 154,
     "user": {
      "displayName": "Sohrab Alex Mofid",
      "userId": "16250439725720827410"
     }
    },
    "outputId": "b2778e0f-4a31-472b-d69a-54e80cc046d0",
    "pycharm": {
     "name": "#%%\n"
    }
   },
   "execution_count": 31,
   "outputs": [
    {
     "output_type": "execute_result",
     "data": {
      "text/plain": [
       "int.rate             0\n",
       "installment          0\n",
       "log.annual.inc       0\n",
       "dti                  0\n",
       "fico                 0\n",
       "days.with.cr.line    0\n",
       "revol.bal            0\n",
       "revol.util           0\n",
       "not.fully.paid       0\n",
       "dtype: int64"
      ]
     },
     "metadata": {},
     "execution_count": 31
    }
   ]
  },
  {
   "cell_type": "code",
   "source": [
    "fig, axs = plt.subplots(nrows = 3, ncols= 3, figsize = (11, 12), sharex= True)\n",
    "fig.subplots_adjust(hspace= .4)\n",
    "fig.subplots_adjust(wspace= .4)\n",
    "\n",
    "for i, col in enumerate(num_data):\n",
    "  ax = plt.subplot(3, 3, i+1)\n",
    "  sns.boxplot(y= df[col])\n",
    "  ax.set_title(f\"Boxplot for {col}\")\n",
    "plt.show()"
   ],
   "metadata": {
    "colab": {
     "base_uri": "https://localhost:8080/",
     "height": 703
    },
    "id": "4v-iFrSsJOdZ",
    "executionInfo": {
     "status": "ok",
     "timestamp": 1673023362805,
     "user_tz": 300,
     "elapsed": 1441,
     "user": {
      "displayName": "Sohrab Alex Mofid",
      "userId": "16250439725720827410"
     }
    },
    "outputId": "09d1157d-7b74-41ff-bb2e-0e4355f2dda0",
    "pycharm": {
     "name": "#%%\n"
    }
   },
   "execution_count": 32,
   "outputs": [
    {
     "output_type": "display_data",
     "data": {
      "text/plain": [
       "<Figure size 792x864 with 9 Axes>"
      ],
      "image/png": "[encoded data removed]"
     },
     "metadata": {
      "needs_background": "light"
     }
    }
   ]
  },
  {
   "cell_type": "code",
   "source": [
    "#From the graphs above, it can be seen that the outliers exist in the features such as the following: int.rate, installment, log.annual.inc, fico, days.with.cr.line and revol.bal. These outliers will be handles later."
   ],
   "metadata": {
    "id": "J7y7ahnOJSJp",
    "executionInfo": {
     "status": "ok",
     "timestamp": 1673023366138,
     "user_tz": 300,
     "elapsed": 158,
     "user": {
      "displayName": "Sohrab Alex Mofid",
      "userId": "16250439725720827410"
     }
    },
    "pycharm": {
     "name": "#%%\n"
    }
   },
   "execution_count": 33,
   "outputs": []
  },
  {
   "cell_type": "code",
   "source": [
    "def treat_outliers(df):\n",
    "  for col in num_data:\n",
    "    print(col)\n",
    "    Q3= np.quantile(df[col], 0.75)\n",
    "    Q1= np.quantile(df[col], 0.25)\n",
    "    IQR= Q3-Q1\n",
    "    lower_range = Q1 - 1.5* IQR\n",
    "    upper_range = Q3 + 1.5* IQR\n",
    "    df[col] = np.where(df[col]> upper_range, upper_range, df[col])\n",
    "    df[col] = np.where(df[col]< lower_range, lower_range, df[col])\n",
    "  return df\n",
    "treat_outliers(df)"
   ],
   "metadata": {
    "colab": {
     "base_uri": "https://localhost:8080/",
     "height": 648
    },
    "id": "uD4YCdDSJjTp",
    "executionInfo": {
     "status": "ok",
     "timestamp": 1673023367568,
     "user_tz": 300,
     "elapsed": 161,
     "user": {
      "displayName": "Sohrab Alex Mofid",
      "userId": "16250439725720827410"
     }
    },
    "outputId": "9fdfd700-7380-45cc-b010-967bf10493a4",
    "pycharm": {
     "name": "#%%\n"
    }
   },
   "execution_count": 34,
   "outputs": [
    {
     "output_type": "stream",
     "name": "stdout",
     "text": [
      "int.rate\n",
      "installment\n",
      "log.annual.inc\n",
      "dti\n",
      "fico\n",
      "days.with.cr.line\n",
      "revol.bal\n",
      "revol.util\n",
      "not.fully.paid\n"
     ]
    },
    {
     "output_type": "execute_result",
     "data": {
      "text/plain": [
       "      credit.policy             purpose  int.rate  installment  \\\n",
       "8463              0           all_other    0.1450       258.16   \n",
       "4770              1      small_business    0.1461       206.86   \n",
       "2943              1    home_improvement    0.1221       666.30   \n",
       "1885              1  debt_consolidation    0.1189       265.32   \n",
       "4781              1  debt_consolidation    0.1218       566.10   \n",
       "...             ...                 ...       ...          ...   \n",
       "7899              0  debt_consolidation    0.1154       131.99   \n",
       "8211              0  debt_consolidation    0.1772       360.13   \n",
       "9547              0         educational    0.1607       147.82   \n",
       "9157              0           all_other    0.1821       174.05   \n",
       "2466              1      major_purchase    0.1189       331.64   \n",
       "\n",
       "      log.annual.inc    dti   fico  days.with.cr.line  revol.bal  revol.util  \\\n",
       "8463       10.778956  19.63  657.0        4379.958333    42006.5        56.8   \n",
       "4770       10.562354  12.76  767.0        5610.000000     4031.0        39.1   \n",
       "2943       11.661380   9.22  802.0        7439.958333        0.0         0.0   \n",
       "1885       11.002100  17.24  707.0        4770.000000     5476.0        46.4   \n",
       "4781       11.058858  15.80  717.0        6240.000000    21441.0        80.6   \n",
       "...              ...    ...    ...                ...        ...         ...   \n",
       "7899        9.825526   1.30  667.0        2910.000000      258.0        86.0   \n",
       "8211       11.306848  25.91  657.0        2430.041667    41603.0        81.1   \n",
       "9547        9.862666  16.19  667.0        1260.041667     4445.0        53.5   \n",
       "9157       10.595634  13.27  667.0        2550.000000     6395.0        59.2   \n",
       "2466       11.350407  11.86  732.0        6481.000000    35166.0        67.2   \n",
       "\n",
       "      inq.last.6mths  delinq.2yrs  pub.rec  not.fully.paid  \n",
       "8463               6            0        0             1.0  \n",
       "4770               5            0        0             1.0  \n",
       "2943               2            0        0             0.0  \n",
       "1885               0            0        0             1.0  \n",
       "4781               1            0        0             1.0  \n",
       "...              ...          ...      ...             ...  \n",
       "7899               2            0        0             1.0  \n",
       "8211               0            0        0             1.0  \n",
       "9547               4            0        0             1.0  \n",
       "9157               9            0        0             1.0  \n",
       "2466               0            0        0             0.0  \n",
       "\n",
       "[16090 rows x 14 columns]"
      ],
      "text/html": [
       "\n",
       "  <div id=\"df-281cf0ec-1135-48de-b1ca-02c69ef6bd82\">\n",
       "    <div class=\"colab-df-container\">\n",
       "      <div>\n",
       "<style scoped>\n",
       "    .dataframe tbody tr th:only-of-type {\n",
       "        vertical-align: middle;\n",
       "    }\n",
       "\n",
       "    .dataframe tbody tr th {\n",
       "        vertical-align: top;\n",
       "    }\n",
       "\n",
       "    .dataframe thead th {\n",
       "        text-align: right;\n",
       "    }\n",
       "</style>\n",
       "<table border=\"1\" class=\"dataframe\">\n",
       "  <thead>\n",
       "    <tr style=\"text-align: right;\">\n",
       "      <th></th>\n",
       "      <th>credit.policy</th>\n",
       "      <th>purpose</th>\n",
       "      <th>int.rate</th>\n",
       "      <th>installment</th>\n",
       "      <th>log.annual.inc</th>\n",
       "      <th>dti</th>\n",
       "      <th>fico</th>\n",
       "      <th>days.with.cr.line</th>\n",
       "      <th>revol.bal</th>\n",
       "      <th>revol.util</th>\n",
       "      <th>inq.last.6mths</th>\n",
       "      <th>delinq.2yrs</th>\n",
       "      <th>pub.rec</th>\n",
       "      <th>not.fully.paid</th>\n",
       "    </tr>\n",
       "  </thead>\n",
       "  <tbody>\n",
       "    <tr>\n",
       "      <th>8463</th>\n",
       "      <td>0</td>\n",
       "      <td>all_other</td>\n",
       "      <td>0.1450</td>\n",
       "      <td>258.16</td>\n",
       "      <td>10.778956</td>\n",
       "      <td>19.63</td>\n",
       "      <td>657.0</td>\n",
       "      <td>4379.958333</td>\n",
       "      <td>42006.5</td>\n",
       "      <td>56.8</td>\n",
       "      <td>6</td>\n",
       "      <td>0</td>\n",
       "      <td>0</td>\n",
       "      <td>1.0</td>\n",
       "    </tr>\n",
       "    <tr>\n",
       "      <th>4770</th>\n",
       "      <td>1</td>\n",
       "      <td>small_business</td>\n",
       "      <td>0.1461</td>\n",
       "      <td>206.86</td>\n",
       "      <td>10.562354</td>\n",
       "      <td>12.76</td>\n",
       "      <td>767.0</td>\n",
       "      <td>5610.000000</td>\n",
       "      <td>4031.0</td>\n",
       "      <td>39.1</td>\n",
       "      <td>5</td>\n",
       "      <td>0</td>\n",
       "      <td>0</td>\n",
       "      <td>1.0</td>\n",
       "    </tr>\n",
       "    <tr>\n",
       "      <th>2943</th>\n",
       "      <td>1</td>\n",
       "      <td>home_improvement</td>\n",
       "      <td>0.1221</td>\n",
       "      <td>666.30</td>\n",
       "      <td>11.661380</td>\n",
       "      <td>9.22</td>\n",
       "      <td>802.0</td>\n",
       "      <td>7439.958333</td>\n",
       "      <td>0.0</td>\n",
       "      <td>0.0</td>\n",
       "      <td>2</td>\n",
       "      <td>0</td>\n",
       "      <td>0</td>\n",
       "      <td>0.0</td>\n",
       "    </tr>\n",
       "    <tr>\n",
       "      <th>1885</th>\n",
       "      <td>1</td>\n",
       "      <td>debt_consolidation</td>\n",
       "      <td>0.1189</td>\n",
       "      <td>265.32</td>\n",
       "      <td>11.002100</td>\n",
       "      <td>17.24</td>\n",
       "      <td>707.0</td>\n",
       "      <td>4770.000000</td>\n",
       "      <td>5476.0</td>\n",
       "      <td>46.4</td>\n",
       "      <td>0</td>\n",
       "      <td>0</td>\n",
       "      <td>0</td>\n",
       "      <td>1.0</td>\n",
       "    </tr>\n",
       "    <tr>\n",
       "      <th>4781</th>\n",
       "      <td>1</td>\n",
       "      <td>debt_consolidation</td>\n",
       "      <td>0.1218</td>\n",
       "      <td>566.10</td>\n",
       "      <td>11.058858</td>\n",
       "      <td>15.80</td>\n",
       "      <td>717.0</td>\n",
       "      <td>6240.000000</td>\n",
       "      <td>21441.0</td>\n",
       "      <td>80.6</td>\n",
       "      <td>1</td>\n",
       "      <td>0</td>\n",
       "      <td>0</td>\n",
       "      <td>1.0</td>\n",
       "    </tr>\n",
       "    <tr>\n",
       "      <th>...</th>\n",
       "      <td>...</td>\n",
       "      <td>...</td>\n",
       "      <td>...</td>\n",
       "      <td>...</td>\n",
       "      <td>...</td>\n",
       "      <td>...</td>\n",
       "      <td>...</td>\n",
       "      <td>...</td>\n",
       "      <td>...</td>\n",
       "      <td>...</td>\n",
       "      <td>...</td>\n",
       "      <td>...</td>\n",
       "      <td>...</td>\n",
       "      <td>...</td>\n",
       "    </tr>\n",
       "    <tr>\n",
       "      <th>7899</th>\n",
       "      <td>0</td>\n",
       "      <td>debt_consolidation</td>\n",
       "      <td>0.1154</td>\n",
       "      <td>131.99</td>\n",
       "      <td>9.825526</td>\n",
       "      <td>1.30</td>\n",
       "      <td>667.0</td>\n",
       "      <td>2910.000000</td>\n",
       "      <td>258.0</td>\n",
       "      <td>86.0</td>\n",
       "      <td>2</td>\n",
       "      <td>0</td>\n",
       "      <td>0</td>\n",
       "      <td>1.0</td>\n",
       "    </tr>\n",
       "    <tr>\n",
       "      <th>8211</th>\n",
       "      <td>0</td>\n",
       "      <td>debt_consolidation</td>\n",
       "      <td>0.1772</td>\n",
       "      <td>360.13</td>\n",
       "      <td>11.306848</td>\n",
       "      <td>25.91</td>\n",
       "      <td>657.0</td>\n",
       "      <td>2430.041667</td>\n",
       "      <td>41603.0</td>\n",
       "      <td>81.1</td>\n",
       "      <td>0</td>\n",
       "      <td>0</td>\n",
       "      <td>0</td>\n",
       "      <td>1.0</td>\n",
       "    </tr>\n",
       "    <tr>\n",
       "      <th>9547</th>\n",
       "      <td>0</td>\n",
       "      <td>educational</td>\n",
       "      <td>0.1607</td>\n",
       "      <td>147.82</td>\n",
       "      <td>9.862666</td>\n",
       "      <td>16.19</td>\n",
       "      <td>667.0</td>\n",
       "      <td>1260.041667</td>\n",
       "      <td>4445.0</td>\n",
       "      <td>53.5</td>\n",
       "      <td>4</td>\n",
       "      <td>0</td>\n",
       "      <td>0</td>\n",
       "      <td>1.0</td>\n",
       "    </tr>\n",
       "    <tr>\n",
       "      <th>9157</th>\n",
       "      <td>0</td>\n",
       "      <td>all_other</td>\n",
       "      <td>0.1821</td>\n",
       "      <td>174.05</td>\n",
       "      <td>10.595634</td>\n",
       "      <td>13.27</td>\n",
       "      <td>667.0</td>\n",
       "      <td>2550.000000</td>\n",
       "      <td>6395.0</td>\n",
       "      <td>59.2</td>\n",
       "      <td>9</td>\n",
       "      <td>0</td>\n",
       "      <td>0</td>\n",
       "      <td>1.0</td>\n",
       "    </tr>\n",
       "    <tr>\n",
       "      <th>2466</th>\n",
       "      <td>1</td>\n",
       "      <td>major_purchase</td>\n",
       "      <td>0.1189</td>\n",
       "      <td>331.64</td>\n",
       "      <td>11.350407</td>\n",
       "      <td>11.86</td>\n",
       "      <td>732.0</td>\n",
       "      <td>6481.000000</td>\n",
       "      <td>35166.0</td>\n",
       "      <td>67.2</td>\n",
       "      <td>0</td>\n",
       "      <td>0</td>\n",
       "      <td>0</td>\n",
       "      <td>0.0</td>\n",
       "    </tr>\n",
       "  </tbody>\n",
       "</table>\n",
       "<p>16090 rows × 14 columns</p>\n",
       "</div>\n",
       "      <button class=\"colab-df-convert\" onclick=\"convertToInteractive('df-281cf0ec-1135-48de-b1ca-02c69ef6bd82')\"\n",
       "              title=\"Convert this dataframe to an interactive table.\"\n",
       "              style=\"display:none;\">\n",
       "        \n",
       "  <svg xmlns=\"http://www.w3.org/2000/svg\" height=\"24px\"viewBox=\"0 0 24 24\"\n",
       "       width=\"24px\">\n",
       "    <path d=\"M0 0h24v24H0V0z\" fill=\"none\"/>\n",
       "    <path d=\"M18.56 5.44l.94 2.06.94-2.06 2.06-.94-2.06-.94-.94-2.06-.94 2.06-2.06.94zm-11 1L8.5 8.5l.94-2.06 2.06-.94-2.06-.94L8.5 2.5l-.94 2.06-2.06.94zm10 10l.94 2.06.94-2.06 2.06-.94-2.06-.94-.94-2.06-.94 2.06-2.06.94z\"/><path d=\"M17.41 7.96l-1.37-1.37c-.4-.4-.92-.59-1.43-.59-.52 0-1.04.2-1.43.59L10.3 9.45l-7.72 7.72c-.78.78-.78 2.05 0 2.83L4 21.41c.39.39.9.59 1.41.59.51 0 1.02-.2 1.41-.59l7.78-7.78 2.81-2.81c.8-.78.8-2.07 0-2.86zM5.41 20L4 18.59l7.72-7.72 1.47 1.35L5.41 20z\"/>\n",
       "  </svg>\n",
       "      </button>\n",
       "      \n",
       "  <style>\n",
       "    .colab-df-container {\n",
       "      display:flex;\n",
       "      flex-wrap:wrap;\n",
       "      gap: 12px;\n",
       "    }\n",
       "\n",
       "    .colab-df-convert {\n",
       "      background-color: #E8F0FE;\n",
       "      border: none;\n",
       "      border-radius: 50%;\n",
       "      cursor: pointer;\n",
       "      display: none;\n",
       "      fill: #1967D2;\n",
       "      height: 32px;\n",
       "      padding: 0 0 0 0;\n",
       "      width: 32px;\n",
       "    }\n",
       "\n",
       "    .colab-df-convert:hover {\n",
       "      background-color: #E2EBFA;\n",
       "      box-shadow: 0px 1px 2px rgba(60, 64, 67, 0.3), 0px 1px 3px 1px rgba(60, 64, 67, 0.15);\n",
       "      fill: #174EA6;\n",
       "    }\n",
       "\n",
       "    [theme=dark] .colab-df-convert {\n",
       "      background-color: #3B4455;\n",
       "      fill: #D2E3FC;\n",
       "    }\n",
       "\n",
       "    [theme=dark] .colab-df-convert:hover {\n",
       "      background-color: #434B5C;\n",
       "      box-shadow: 0px 1px 3px 1px rgba(0, 0, 0, 0.15);\n",
       "      filter: drop-shadow(0px 1px 2px rgba(0, 0, 0, 0.3));\n",
       "      fill: #FFFFFF;\n",
       "    }\n",
       "  </style>\n",
       "\n",
       "      <script>\n",
       "        const buttonEl =\n",
       "          document.querySelector('#df-281cf0ec-1135-48de-b1ca-02c69ef6bd82 button.colab-df-convert');\n",
       "        buttonEl.style.display =\n",
       "          google.colab.kernel.accessAllowed ? 'block' : 'none';\n",
       "\n",
       "        async function convertToInteractive(key) {\n",
       "          const element = document.querySelector('#df-281cf0ec-1135-48de-b1ca-02c69ef6bd82');\n",
       "          const dataTable =\n",
       "            await google.colab.kernel.invokeFunction('convertToInteractive',\n",
       "                                                     [key], {});\n",
       "          if (!dataTable) return;\n",
       "\n",
       "          const docLinkHtml = 'Like what you see? Visit the ' +\n",
       "            '<a target=\"_blank\" href=https://colab.research.google.com/notebooks/data_table.ipynb>data table notebook</a>'\n",
       "            + ' to learn more about interactive tables.';\n",
       "          element.innerHTML = '';\n",
       "          dataTable['output_type'] = 'display_data';\n",
       "          await google.colab.output.renderOutput(dataTable, element);\n",
       "          const docLink = document.createElement('div');\n",
       "          docLink.innerHTML = docLinkHtml;\n",
       "          element.appendChild(docLink);\n",
       "        }\n",
       "      </script>\n",
       "    </div>\n",
       "  </div>\n",
       "  "
      ]
     },
     "metadata": {},
     "execution_count": 34
    }
   ]
  },
  {
   "cell_type": "code",
   "source": [
    "fig, axs = plt.subplots(nrows = 3, ncols= 3, figsize = (11, 10), sharex= True)\n",
    "fig.subplots_adjust(wspace= 0.4)\n",
    "fig.subplots_adjust(hspace= 0.3)\n",
    "\n",
    "for i, col in enumerate(num_data):\n",
    "  ax = plt.subplot(3, 3, i+1)\n",
    "  sns.boxplot(y= df[col])\n",
    "  ax.set_title(f\"Boxplot for {col}\")\n",
    "plt.show()"
   ],
   "metadata": {
    "colab": {
     "base_uri": "https://localhost:8080/",
     "height": 594
    },
    "id": "X9pAst9YJtZ-",
    "executionInfo": {
     "status": "ok",
     "timestamp": 1673023373495,
     "user_tz": 300,
     "elapsed": 1667,
     "user": {
      "displayName": "Sohrab Alex Mofid",
      "userId": "16250439725720827410"
     }
    },
    "outputId": "7836f4ea-5cde-4281-dca0-4f8ebc8f7401",
    "pycharm": {
     "name": "#%%\n"
    }
   },
   "execution_count": 35,
   "outputs": [
    {
     "output_type": "display_data",
     "data": {
      "text/plain": [
       "<Figure size 792x720 with 9 Axes>"
      ],
      "image/png": "[encoded data removed]"
     },
     "metadata": {
      "needs_background": "light"
     }
    }
   ]
  },
  {
   "cell_type": "code",
   "source": [
    "## outliers for numerical data have been treated."
   ],
   "metadata": {
    "id": "uN-vPe0HJuc0",
    "executionInfo": {
     "status": "ok",
     "timestamp": 1673023377536,
     "user_tz": 300,
     "elapsed": 178,
     "user": {
      "displayName": "Sohrab Alex Mofid",
      "userId": "16250439725720827410"
     }
    },
    "pycharm": {
     "name": "#%%\n"
    }
   },
   "execution_count": 36,
   "outputs": []
  },
  {
   "cell_type": "code",
   "source": [
    "num_data_skew = df[num_data_features].apply(lambda x: skew(x)).sort_values(ascending = False)\n",
    "num_data_skew"
   ],
   "metadata": {
    "colab": {
     "base_uri": "https://localhost:8080/",
     "height": 0
    },
    "id": "QqcLUE3JKDe0",
    "executionInfo": {
     "status": "ok",
     "timestamp": 1673023378533,
     "user_tz": 300,
     "elapsed": 204,
     "user": {
      "displayName": "Sohrab Alex Mofid",
      "userId": "16250439725720827410"
     }
    },
    "outputId": "77344276-2a16-497f-886d-e5e3649f8b88",
    "pycharm": {
     "name": "#%%\n"
    }
   },
   "execution_count": 37,
   "outputs": [
    {
     "output_type": "execute_result",
     "data": {
      "text/plain": [
       "revol.bal            1.109189\n",
       "installment          0.890819\n",
       "days.with.cr.line    0.652186\n",
       "fico                 0.531314\n",
       "int.rate             0.094830\n",
       "log.annual.inc       0.013217\n",
       "not.fully.paid       0.000000\n",
       "dti                 -0.003486\n",
       "revol.util          -0.032328\n",
       "dtype: float64"
      ]
     },
     "metadata": {},
     "execution_count": 37
    }
   ]
  },
  {
   "cell_type": "code",
   "source": [
    "fig, axs = plt.subplots(nrows = 3, ncols= 3, figsize = (14, 12), sharex= True)\n",
    "fig.subplots_adjust(wspace= 0.4)\n",
    "fig.subplots_adjust(hspace= 0.3)\n",
    "\n",
    "for i, col in enumerate(num_data):\n",
    "  ax = plt.subplot(3, 3, i+1)\n",
    "  sns.histplot(data=df[col], kde=True)\n",
    "  ax.set_title(f\"Distribution of {col}\")\n",
    "plt.show()"
   ],
   "metadata": {
    "colab": {
     "base_uri": "https://localhost:8080/",
     "height": 730
    },
    "id": "TYe9WBz4KZi5",
    "executionInfo": {
     "status": "ok",
     "timestamp": 1673023384194,
     "user_tz": 300,
     "elapsed": 3943,
     "user": {
      "displayName": "Sohrab Alex Mofid",
      "userId": "16250439725720827410"
     }
    },
    "outputId": "7f5366da-0285-4c5b-c848-db96a2f80688",
    "pycharm": {
     "name": "#%%\n"
    }
   },
   "execution_count": 38,
   "outputs": [
    {
     "output_type": "display_data",
     "data": {
      "text/plain": [
       "<Figure size 1008x864 with 9 Axes>"
      ],
      "image/png": "[encoded data removed]"
     },
     "metadata": {
      "needs_background": "light"
     }
    }
   ]
  },
  {
   "cell_type": "code",
   "source": [
    "# the skewness normally should be between -1 and 1, it should be later treated normalized before building model"
   ],
   "metadata": {
    "id": "VYsVbRvnKak_",
    "executionInfo": {
     "status": "ok",
     "timestamp": 1673023387421,
     "user_tz": 300,
     "elapsed": 218,
     "user": {
      "displayName": "Sohrab Alex Mofid",
      "userId": "16250439725720827410"
     }
    },
    "pycharm": {
     "name": "#%%\n"
    }
   },
   "execution_count": 39,
   "outputs": []
  },
  {
   "cell_type": "code",
   "source": [
    "# EDA of numerical variables"
   ],
   "metadata": {
    "id": "xEE_iTyvME9_",
    "executionInfo": {
     "status": "ok",
     "timestamp": 1673023388427,
     "user_tz": 300,
     "elapsed": 2,
     "user": {
      "displayName": "Sohrab Alex Mofid",
      "userId": "16250439725720827410"
     }
    },
    "pycharm": {
     "name": "#%%\n"
    }
   },
   "execution_count": 40,
   "outputs": []
  },
  {
   "cell_type": "code",
   "source": [
    "plt.figure(figsize=(10,6))\n",
    "sns.heatmap(num_data.corr().round(2), annot= True, cmap=\"RdBu\") \n",
    "plt.show()"
   ],
   "metadata": {
    "colab": {
     "base_uri": "https://localhost:8080/",
     "height": 450
    },
    "id": "4DQ5UjgMMIyb",
    "executionInfo": {
     "status": "ok",
     "timestamp": 1673023389837,
     "user_tz": 300,
     "elapsed": 610,
     "user": {
      "displayName": "Sohrab Alex Mofid",
      "userId": "16250439725720827410"
     }
    },
    "outputId": "af2c6968-c66b-4926-8aed-a1292662dc50",
    "pycharm": {
     "name": "#%%\n"
    }
   },
   "execution_count": 41,
   "outputs": [
    {
     "output_type": "display_data",
     "data": {
      "text/plain": [
       "<Figure size 720x432 with 2 Axes>"
      ],
      "image/png": "[encoded data removed]"
     },
     "metadata": {
      "needs_background": "light"
     }
    }
   ]
  },
  {
   "cell_type": "code",
   "source": [
    "num_data.corr()['not.fully.paid'].sort_values(ascending = False)"
   ],
   "metadata": {
    "colab": {
     "base_uri": "https://localhost:8080/",
     "height": 0
    },
    "id": "JnhG_e82nyo4",
    "executionInfo": {
     "status": "ok",
     "timestamp": 1673023392546,
     "user_tz": 300,
     "elapsed": 152,
     "user": {
      "displayName": "Sohrab Alex Mofid",
      "userId": "16250439725720827410"
     }
    },
    "outputId": "8bab122a-16b8-468e-cebf-f4b8bea5013f",
    "pycharm": {
     "name": "#%%\n"
    }
   },
   "execution_count": 42,
   "outputs": [
    {
     "output_type": "execute_result",
     "data": {
      "text/plain": [
       "not.fully.paid       1.000000\n",
       "int.rate             0.216243\n",
       "revol.util           0.110261\n",
       "installment          0.062973\n",
       "dti                  0.057148\n",
       "revol.bal            0.057056\n",
       "days.with.cr.line   -0.043608\n",
       "log.annual.inc      -0.048684\n",
       "fico                -0.208365\n",
       "Name: not.fully.paid, dtype: float64"
      ]
     },
     "metadata": {},
     "execution_count": 42
    }
   ]
  },
  {
   "cell_type": "code",
   "source": [
    "X_num = df[num_data_features]\n",
    "X_num = X_num.drop(['not.fully.paid'], axis= 1)\n",
    "X_num"
   ],
   "metadata": {
    "colab": {
     "base_uri": "https://localhost:8080/",
     "height": 424
    },
    "id": "L1WePHPfoAyY",
    "executionInfo": {
     "status": "ok",
     "timestamp": 1673023419376,
     "user_tz": 300,
     "elapsed": 191,
     "user": {
      "displayName": "Sohrab Alex Mofid",
      "userId": "16250439725720827410"
     }
    },
    "outputId": "dfed31fe-8bda-4821-e79d-b68f8ff6a20d",
    "pycharm": {
     "name": "#%%\n"
    }
   },
   "execution_count": 44,
   "outputs": [
    {
     "output_type": "execute_result",
     "data": {
      "text/plain": [
       "      int.rate  installment  log.annual.inc    dti   fico  days.with.cr.line  \\\n",
       "8463    0.1450       258.16       10.778956  19.63  657.0        4379.958333   \n",
       "4770    0.1461       206.86       10.562354  12.76  767.0        5610.000000   \n",
       "2943    0.1221       666.30       11.661380   9.22  802.0        7439.958333   \n",
       "1885    0.1189       265.32       11.002100  17.24  707.0        4770.000000   \n",
       "4781    0.1218       566.10       11.058858  15.80  717.0        6240.000000   \n",
       "...        ...          ...             ...    ...    ...                ...   \n",
       "7899    0.1154       131.99        9.825526   1.30  667.0        2910.000000   \n",
       "8211    0.1772       360.13       11.306848  25.91  657.0        2430.041667   \n",
       "9547    0.1607       147.82        9.862666  16.19  667.0        1260.041667   \n",
       "9157    0.1821       174.05       10.595634  13.27  667.0        2550.000000   \n",
       "2466    0.1189       331.64       11.350407  11.86  732.0        6481.000000   \n",
       "\n",
       "      revol.bal  revol.util  \n",
       "8463    42006.5        56.8  \n",
       "4770     4031.0        39.1  \n",
       "2943        0.0         0.0  \n",
       "1885     5476.0        46.4  \n",
       "4781    21441.0        80.6  \n",
       "...         ...         ...  \n",
       "7899      258.0        86.0  \n",
       "8211    41603.0        81.1  \n",
       "9547     4445.0        53.5  \n",
       "9157     6395.0        59.2  \n",
       "2466    35166.0        67.2  \n",
       "\n",
       "[16090 rows x 8 columns]"
      ],
      "text/html": [
       "\n",
       "  <div id=\"df-6db1a441-a8c7-49fe-9fcb-c205e919770f\">\n",
       "    <div class=\"colab-df-container\">\n",
       "      <div>\n",
       "<style scoped>\n",
       "    .dataframe tbody tr th:only-of-type {\n",
       "        vertical-align: middle;\n",
       "    }\n",
       "\n",
       "    .dataframe tbody tr th {\n",
       "        vertical-align: top;\n",
       "    }\n",
       "\n",
       "    .dataframe thead th {\n",
       "        text-align: right;\n",
       "    }\n",
       "</style>\n",
       "<table border=\"1\" class=\"dataframe\">\n",
       "  <thead>\n",
       "    <tr style=\"text-align: right;\">\n",
       "      <th></th>\n",
       "      <th>int.rate</th>\n",
       "      <th>installment</th>\n",
       "      <th>log.annual.inc</th>\n",
       "      <th>dti</th>\n",
       "      <th>fico</th>\n",
       "      <th>days.with.cr.line</th>\n",
       "      <th>revol.bal</th>\n",
       "      <th>revol.util</th>\n",
       "    </tr>\n",
       "  </thead>\n",
       "  <tbody>\n",
       "    <tr>\n",
       "      <th>8463</th>\n",
       "      <td>0.1450</td>\n",
       "      <td>258.16</td>\n",
       "      <td>10.778956</td>\n",
       "      <td>19.63</td>\n",
       "      <td>657.0</td>\n",
       "      <td>4379.958333</td>\n",
       "      <td>42006.5</td>\n",
       "      <td>56.8</td>\n",
       "    </tr>\n",
       "    <tr>\n",
       "      <th>4770</th>\n",
       "      <td>0.1461</td>\n",
       "      <td>206.86</td>\n",
       "      <td>10.562354</td>\n",
       "      <td>12.76</td>\n",
       "      <td>767.0</td>\n",
       "      <td>5610.000000</td>\n",
       "      <td>4031.0</td>\n",
       "      <td>39.1</td>\n",
       "    </tr>\n",
       "    <tr>\n",
       "      <th>2943</th>\n",
       "      <td>0.1221</td>\n",
       "      <td>666.30</td>\n",
       "      <td>11.661380</td>\n",
       "      <td>9.22</td>\n",
       "      <td>802.0</td>\n",
       "      <td>7439.958333</td>\n",
       "      <td>0.0</td>\n",
       "      <td>0.0</td>\n",
       "    </tr>\n",
       "    <tr>\n",
       "      <th>1885</th>\n",
       "      <td>0.1189</td>\n",
       "      <td>265.32</td>\n",
       "      <td>11.002100</td>\n",
       "      <td>17.24</td>\n",
       "      <td>707.0</td>\n",
       "      <td>4770.000000</td>\n",
       "      <td>5476.0</td>\n",
       "      <td>46.4</td>\n",
       "    </tr>\n",
       "    <tr>\n",
       "      <th>4781</th>\n",
       "      <td>0.1218</td>\n",
       "      <td>566.10</td>\n",
       "      <td>11.058858</td>\n",
       "      <td>15.80</td>\n",
       "      <td>717.0</td>\n",
       "      <td>6240.000000</td>\n",
       "      <td>21441.0</td>\n",
       "      <td>80.6</td>\n",
       "    </tr>\n",
       "    <tr>\n",
       "      <th>...</th>\n",
       "      <td>...</td>\n",
       "      <td>...</td>\n",
       "      <td>...</td>\n",
       "      <td>...</td>\n",
       "      <td>...</td>\n",
       "      <td>...</td>\n",
       "      <td>...</td>\n",
       "      <td>...</td>\n",
       "    </tr>\n",
       "    <tr>\n",
       "      <th>7899</th>\n",
       "      <td>0.1154</td>\n",
       "      <td>131.99</td>\n",
       "      <td>9.825526</td>\n",
       "      <td>1.30</td>\n",
       "      <td>667.0</td>\n",
       "      <td>2910.000000</td>\n",
       "      <td>258.0</td>\n",
       "      <td>86.0</td>\n",
       "    </tr>\n",
       "    <tr>\n",
       "      <th>8211</th>\n",
       "      <td>0.1772</td>\n",
       "      <td>360.13</td>\n",
       "      <td>11.306848</td>\n",
       "      <td>25.91</td>\n",
       "      <td>657.0</td>\n",
       "      <td>2430.041667</td>\n",
       "      <td>41603.0</td>\n",
       "      <td>81.1</td>\n",
       "    </tr>\n",
       "    <tr>\n",
       "      <th>9547</th>\n",
       "      <td>0.1607</td>\n",
       "      <td>147.82</td>\n",
       "      <td>9.862666</td>\n",
       "      <td>16.19</td>\n",
       "      <td>667.0</td>\n",
       "      <td>1260.041667</td>\n",
       "      <td>4445.0</td>\n",
       "      <td>53.5</td>\n",
       "    </tr>\n",
       "    <tr>\n",
       "      <th>9157</th>\n",
       "      <td>0.1821</td>\n",
       "      <td>174.05</td>\n",
       "      <td>10.595634</td>\n",
       "      <td>13.27</td>\n",
       "      <td>667.0</td>\n",
       "      <td>2550.000000</td>\n",
       "      <td>6395.0</td>\n",
       "      <td>59.2</td>\n",
       "    </tr>\n",
       "    <tr>\n",
       "      <th>2466</th>\n",
       "      <td>0.1189</td>\n",
       "      <td>331.64</td>\n",
       "      <td>11.350407</td>\n",
       "      <td>11.86</td>\n",
       "      <td>732.0</td>\n",
       "      <td>6481.000000</td>\n",
       "      <td>35166.0</td>\n",
       "      <td>67.2</td>\n",
       "    </tr>\n",
       "  </tbody>\n",
       "</table>\n",
       "<p>16090 rows × 8 columns</p>\n",
       "</div>\n",
       "      <button class=\"colab-df-convert\" onclick=\"convertToInteractive('df-6db1a441-a8c7-49fe-9fcb-c205e919770f')\"\n",
       "              title=\"Convert this dataframe to an interactive table.\"\n",
       "              style=\"display:none;\">\n",
       "        \n",
       "  <svg xmlns=\"http://www.w3.org/2000/svg\" height=\"24px\"viewBox=\"0 0 24 24\"\n",
       "       width=\"24px\">\n",
       "    <path d=\"M0 0h24v24H0V0z\" fill=\"none\"/>\n",
       "    <path d=\"M18.56 5.44l.94 2.06.94-2.06 2.06-.94-2.06-.94-.94-2.06-.94 2.06-2.06.94zm-11 1L8.5 8.5l.94-2.06 2.06-.94-2.06-.94L8.5 2.5l-.94 2.06-2.06.94zm10 10l.94 2.06.94-2.06 2.06-.94-2.06-.94-.94-2.06-.94 2.06-2.06.94z\"/><path d=\"M17.41 7.96l-1.37-1.37c-.4-.4-.92-.59-1.43-.59-.52 0-1.04.2-1.43.59L10.3 9.45l-7.72 7.72c-.78.78-.78 2.05 0 2.83L4 21.41c.39.39.9.59 1.41.59.51 0 1.02-.2 1.41-.59l7.78-7.78 2.81-2.81c.8-.78.8-2.07 0-2.86zM5.41 20L4 18.59l7.72-7.72 1.47 1.35L5.41 20z\"/>\n",
       "  </svg>\n",
       "      </button>\n",
       "      \n",
       "  <style>\n",
       "    .colab-df-container {\n",
       "      display:flex;\n",
       "      flex-wrap:wrap;\n",
       "      gap: 12px;\n",
       "    }\n",
       "\n",
       "    .colab-df-convert {\n",
       "      background-color: #E8F0FE;\n",
       "      border: none;\n",
       "      border-radius: 50%;\n",
       "      cursor: pointer;\n",
       "      display: none;\n",
       "      fill: #1967D2;\n",
       "      height: 32px;\n",
       "      padding: 0 0 0 0;\n",
       "      width: 32px;\n",
       "    }\n",
       "\n",
       "    .colab-df-convert:hover {\n",
       "      background-color: #E2EBFA;\n",
       "      box-shadow: 0px 1px 2px rgba(60, 64, 67, 0.3), 0px 1px 3px 1px rgba(60, 64, 67, 0.15);\n",
       "      fill: #174EA6;\n",
       "    }\n",
       "\n",
       "    [theme=dark] .colab-df-convert {\n",
       "      background-color: #3B4455;\n",
       "      fill: #D2E3FC;\n",
       "    }\n",
       "\n",
       "    [theme=dark] .colab-df-convert:hover {\n",
       "      background-color: #434B5C;\n",
       "      box-shadow: 0px 1px 3px 1px rgba(0, 0, 0, 0.15);\n",
       "      filter: drop-shadow(0px 1px 2px rgba(0, 0, 0, 0.3));\n",
       "      fill: #FFFFFF;\n",
       "    }\n",
       "  </style>\n",
       "\n",
       "      <script>\n",
       "        const buttonEl =\n",
       "          document.querySelector('#df-6db1a441-a8c7-49fe-9fcb-c205e919770f button.colab-df-convert');\n",
       "        buttonEl.style.display =\n",
       "          google.colab.kernel.accessAllowed ? 'block' : 'none';\n",
       "\n",
       "        async function convertToInteractive(key) {\n",
       "          const element = document.querySelector('#df-6db1a441-a8c7-49fe-9fcb-c205e919770f');\n",
       "          const dataTable =\n",
       "            await google.colab.kernel.invokeFunction('convertToInteractive',\n",
       "                                                     [key], {});\n",
       "          if (!dataTable) return;\n",
       "\n",
       "          const docLinkHtml = 'Like what you see? Visit the ' +\n",
       "            '<a target=\"_blank\" href=https://colab.research.google.com/notebooks/data_table.ipynb>data table notebook</a>'\n",
       "            + ' to learn more about interactive tables.';\n",
       "          element.innerHTML = '';\n",
       "          dataTable['output_type'] = 'display_data';\n",
       "          await google.colab.output.renderOutput(dataTable, element);\n",
       "          const docLink = document.createElement('div');\n",
       "          docLink.innerHTML = docLinkHtml;\n",
       "          element.appendChild(docLink);\n",
       "        }\n",
       "      </script>\n",
       "    </div>\n",
       "  </div>\n",
       "  "
      ]
     },
     "metadata": {},
     "execution_count": 44
    }
   ]
  },
  {
   "cell_type": "code",
   "source": [
    "Y = df[['not.fully.paid']]"
   ],
   "metadata": {
    "id": "TAqFE0IVUCE2",
    "executionInfo": {
     "status": "ok",
     "timestamp": 1673023422905,
     "user_tz": 300,
     "elapsed": 154,
     "user": {
      "displayName": "Sohrab Alex Mofid",
      "userId": "16250439725720827410"
     }
    },
    "pycharm": {
     "name": "#%%\n"
    }
   },
   "execution_count": 45,
   "outputs": []
  },
  {
   "cell_type": "code",
   "source": [
    "# We can do Recursive Feature Elemination with three different models to extract most important numerical features."
   ],
   "metadata": {
    "id": "5gXMr0lKvJ25",
    "pycharm": {
     "name": "#%%\n"
    }
   },
   "execution_count": null,
   "outputs": []
  },
  {
   "cell_type": "code",
   "source": [
    "from sklearn.feature_selection import RFE\n",
    "from sklearn.linear_model import LinearRegression\n",
    "model = LinearRegression()\n",
    "rfe = RFE(estimator= model, n_features_to_select= 5)\n",
    "rfe.fit(X_num, Y)\n",
    "print(\"Number of Features: %d\"% rfe.n_features_)\n",
    "print(\"Selected Features: %s\"% rfe.support_)\n",
    "print(\"Selected Features: %s\"% rfe.ranking_)\n",
    "print(\"Best features:\", X_num.columns[rfe.support_])"
   ],
   "metadata": {
    "colab": {
     "base_uri": "https://localhost:8080/",
     "height": 0
    },
    "id": "BKQ5UJX9VyaW",
    "outputId": "f44f8edc-88ab-4d07-ee29-3d5bb9fd9b09",
    "executionInfo": {
     "status": "ok",
     "timestamp": 1673023425498,
     "user_tz": 300,
     "elapsed": 204,
     "user": {
      "displayName": "Sohrab Alex Mofid",
      "userId": "16250439725720827410"
     }
    },
    "pycharm": {
     "name": "#%%\n"
    }
   },
   "execution_count": 46,
   "outputs": [
    {
     "output_type": "stream",
     "name": "stdout",
     "text": [
      "Number of Features: 5\n",
      "Selected Features: [ True  True  True  True  True False False False]\n",
      "Selected Features: [1 1 1 1 1 4 3 2]\n",
      "Best features: Index(['int.rate', 'installment', 'log.annual.inc', 'dti', 'fico'], dtype='object')\n"
     ]
    }
   ]
  },
  {
   "cell_type": "code",
   "source": [
    "from sklearn.feature_selection import RFE\n",
    "from sklearn.datasets import make_friedman1\n",
    "from sklearn.svm import SVR\n",
    "X_num, Y = make_friedman1(n_samples=9578, n_features=8, random_state=42)\n",
    "estimator = SVR(kernel=\"linear\")\n",
    "rfe = RFE(estimator, n_features_to_select=5, step=1)\n",
    "rfe = rfe.fit(X_num, Y)\n",
    "print(\"Number of Features: %d\"% rfe.n_features_)\n",
    "print(\"Selected Features: %s\"% rfe.support_)\n",
    "print(\"Selected Features: %s\"% rfe.ranking_)\n",
    "\n",
    "num_cols = df[num_data_features].drop(['not.fully.paid'], axis = 1)\n",
    "num_cols = num_cols.columns\n",
    "num_cols\n",
    "X_num = pd.DataFrame(X_num, columns = [num_cols])\n",
    "list(zip(X_num.columns, rfe.support_, rfe.ranking_))\n",
    "X_num.columns[rfe.support_]"
   ],
   "metadata": {
    "id": "3JvuNZk9HtUm",
    "executionInfo": {
     "status": "ok",
     "timestamp": 1673023455238,
     "user_tz": 300,
     "elapsed": 15137,
     "user": {
      "displayName": "Sohrab Alex Mofid",
      "userId": "16250439725720827410"
     }
    },
    "colab": {
     "base_uri": "https://localhost:8080/",
     "height": 0
    },
    "outputId": "cb2714a9-4859-476c-dbbc-188bdea33661",
    "pycharm": {
     "name": "#%%\n"
    }
   },
   "execution_count": 47,
   "outputs": [
    {
     "output_type": "stream",
     "name": "stdout",
     "text": [
      "Number of Features: 5\n",
      "Selected Features: [ True  True  True  True  True False False False]\n",
      "Selected Features: [1 1 1 1 1 2 3 4]\n"
     ]
    },
    {
     "output_type": "execute_result",
     "data": {
      "text/plain": [
       "MultiIndex([(      'int.rate',),\n",
       "            (   'installment',),\n",
       "            ('log.annual.inc',),\n",
       "            (           'dti',),\n",
       "            (          'fico',)],\n",
       "           )"
      ]
     },
     "metadata": {},
     "execution_count": 47
    }
   ]
  },
  {
   "cell_type": "code",
   "source": [
    "from sklearn.ensemble import GradientBoostingRegressor\n",
    "from feature_engine.selection import RecursiveFeatureElimination\n",
    "from warnings import simplefilter # import warnings filter\n",
    "simplefilter(action='ignore', category=FutureWarning)\n",
    "\n",
    "model = GradientBoostingRegressor(n_estimators=5,random_state=10,)\n",
    "RFE_model = RecursiveFeatureElimination(estimator = model, scoring = 'r2', threshold = 0.001, cv=2,)\n",
    "RFE_model.fit(X_num, Y)\n",
    "RFE_model.feature_importances_.plot.bar(figsize=(5, 3))\n",
    "plt.ylabel('Feature importance')\n",
    "plt.title('Feature importance derived from the GBM')\n",
    "plt.show()"
   ],
   "metadata": {
    "colab": {
     "base_uri": "https://localhost:8080/",
     "height": 309
    },
    "id": "jk-foZVE0ie-",
    "executionInfo": {
     "status": "ok",
     "timestamp": 1673023512521,
     "user_tz": 300,
     "elapsed": 4591,
     "user": {
      "displayName": "Sohrab Alex Mofid",
      "userId": "16250439725720827410"
     }
    },
    "outputId": "49fbc6e7-cbab-490e-a42e-c3295494eb31",
    "pycharm": {
     "name": "#%%\n"
    }
   },
   "execution_count": 51,
   "outputs": [
    {
     "output_type": "display_data",
     "data": {
      "text/plain": [
       "<Figure size 360x216 with 1 Axes>"
      ],
      "image/png": "[encoded data removed]"
     },
     "metadata": {
      "needs_background": "light"
     }
    }
   ]
  },
  {
   "cell_type": "code",
   "source": [
    "# we can see from all three models that dti, installment int.rate and fico are most important features.\n",
    "# we can keep log,annual income and try building our model later on with it if necessary. "
   ],
   "metadata": {
    "id": "DCVw5PC10_Hm",
    "pycharm": {
     "name": "#%%\n"
    }
   },
   "execution_count": null,
   "outputs": []
  },
  {
   "cell_type": "code",
   "source": [
    "# Now we ll do EDA and feature engineering for categorical variables."
   ],
   "metadata": {
    "id": "PxlWmU9p6F_f",
    "pycharm": {
     "name": "#%%\n"
    }
   },
   "execution_count": null,
   "outputs": []
  },
  {
   "cell_type": "code",
   "source": [
    "le = preprocessing.LabelEncoder()\n",
    "df[\"purpose\"] = le.fit_transform(df[\"purpose\"].astype(str))\n",
    "cat_data\n",
    "df.head()"
   ],
   "metadata": {
    "colab": {
     "base_uri": "https://localhost:8080/",
     "height": 270
    },
    "id": "IY-dbGoA5P8l",
    "executionInfo": {
     "status": "ok",
     "timestamp": 1673023519912,
     "user_tz": 300,
     "elapsed": 180,
     "user": {
      "displayName": "Sohrab Alex Mofid",
      "userId": "16250439725720827410"
     }
    },
    "outputId": "7c510e10-d1fd-4bd9-de2d-bbe715315ed0",
    "pycharm": {
     "name": "#%%\n"
    }
   },
   "execution_count": 52,
   "outputs": [
    {
     "output_type": "execute_result",
     "data": {
      "text/plain": [
       "      credit.policy  purpose  int.rate  installment  log.annual.inc    dti  \\\n",
       "8463              0        0    0.1450       258.16       10.778956  19.63   \n",
       "4770              1        6    0.1461       206.86       10.562354  12.76   \n",
       "2943              1        4    0.1221       666.30       11.661380   9.22   \n",
       "1885              1        2    0.1189       265.32       11.002100  17.24   \n",
       "4781              1        2    0.1218       566.10       11.058858  15.80   \n",
       "\n",
       "       fico  days.with.cr.line  revol.bal  revol.util  inq.last.6mths  \\\n",
       "8463  657.0        4379.958333    42006.5        56.8               6   \n",
       "4770  767.0        5610.000000     4031.0        39.1               5   \n",
       "2943  802.0        7439.958333        0.0         0.0               2   \n",
       "1885  707.0        4770.000000     5476.0        46.4               0   \n",
       "4781  717.0        6240.000000    21441.0        80.6               1   \n",
       "\n",
       "      delinq.2yrs  pub.rec  not.fully.paid  \n",
       "8463            0        0             1.0  \n",
       "4770            0        0             1.0  \n",
       "2943            0        0             0.0  \n",
       "1885            0        0             1.0  \n",
       "4781            0        0             1.0  "
      ],
      "text/html": [
       "\n",
       "  <div id=\"df-54b82805-7ef2-4304-9d58-77039dcdc85f\">\n",
       "    <div class=\"colab-df-container\">\n",
       "      <div>\n",
       "<style scoped>\n",
       "    .dataframe tbody tr th:only-of-type {\n",
       "        vertical-align: middle;\n",
       "    }\n",
       "\n",
       "    .dataframe tbody tr th {\n",
       "        vertical-align: top;\n",
       "    }\n",
       "\n",
       "    .dataframe thead th {\n",
       "        text-align: right;\n",
       "    }\n",
       "</style>\n",
       "<table border=\"1\" class=\"dataframe\">\n",
       "  <thead>\n",
       "    <tr style=\"text-align: right;\">\n",
       "      <th></th>\n",
       "      <th>credit.policy</th>\n",
       "      <th>purpose</th>\n",
       "      <th>int.rate</th>\n",
       "      <th>installment</th>\n",
       "      <th>log.annual.inc</th>\n",
       "      <th>dti</th>\n",
       "      <th>fico</th>\n",
       "      <th>days.with.cr.line</th>\n",
       "      <th>revol.bal</th>\n",
       "      <th>revol.util</th>\n",
       "      <th>inq.last.6mths</th>\n",
       "      <th>delinq.2yrs</th>\n",
       "      <th>pub.rec</th>\n",
       "      <th>not.fully.paid</th>\n",
       "    </tr>\n",
       "  </thead>\n",
       "  <tbody>\n",
       "    <tr>\n",
       "      <th>8463</th>\n",
       "      <td>0</td>\n",
       "      <td>0</td>\n",
       "      <td>0.1450</td>\n",
       "      <td>258.16</td>\n",
       "      <td>10.778956</td>\n",
       "      <td>19.63</td>\n",
       "      <td>657.0</td>\n",
       "      <td>4379.958333</td>\n",
       "      <td>42006.5</td>\n",
       "      <td>56.8</td>\n",
       "      <td>6</td>\n",
       "      <td>0</td>\n",
       "      <td>0</td>\n",
       "      <td>1.0</td>\n",
       "    </tr>\n",
       "    <tr>\n",
       "      <th>4770</th>\n",
       "      <td>1</td>\n",
       "      <td>6</td>\n",
       "      <td>0.1461</td>\n",
       "      <td>206.86</td>\n",
       "      <td>10.562354</td>\n",
       "      <td>12.76</td>\n",
       "      <td>767.0</td>\n",
       "      <td>5610.000000</td>\n",
       "      <td>4031.0</td>\n",
       "      <td>39.1</td>\n",
       "      <td>5</td>\n",
       "      <td>0</td>\n",
       "      <td>0</td>\n",
       "      <td>1.0</td>\n",
       "    </tr>\n",
       "    <tr>\n",
       "      <th>2943</th>\n",
       "      <td>1</td>\n",
       "      <td>4</td>\n",
       "      <td>0.1221</td>\n",
       "      <td>666.30</td>\n",
       "      <td>11.661380</td>\n",
       "      <td>9.22</td>\n",
       "      <td>802.0</td>\n",
       "      <td>7439.958333</td>\n",
       "      <td>0.0</td>\n",
       "      <td>0.0</td>\n",
       "      <td>2</td>\n",
       "      <td>0</td>\n",
       "      <td>0</td>\n",
       "      <td>0.0</td>\n",
       "    </tr>\n",
       "    <tr>\n",
       "      <th>1885</th>\n",
       "      <td>1</td>\n",
       "      <td>2</td>\n",
       "      <td>0.1189</td>\n",
       "      <td>265.32</td>\n",
       "      <td>11.002100</td>\n",
       "      <td>17.24</td>\n",
       "      <td>707.0</td>\n",
       "      <td>4770.000000</td>\n",
       "      <td>5476.0</td>\n",
       "      <td>46.4</td>\n",
       "      <td>0</td>\n",
       "      <td>0</td>\n",
       "      <td>0</td>\n",
       "      <td>1.0</td>\n",
       "    </tr>\n",
       "    <tr>\n",
       "      <th>4781</th>\n",
       "      <td>1</td>\n",
       "      <td>2</td>\n",
       "      <td>0.1218</td>\n",
       "      <td>566.10</td>\n",
       "      <td>11.058858</td>\n",
       "      <td>15.80</td>\n",
       "      <td>717.0</td>\n",
       "      <td>6240.000000</td>\n",
       "      <td>21441.0</td>\n",
       "      <td>80.6</td>\n",
       "      <td>1</td>\n",
       "      <td>0</td>\n",
       "      <td>0</td>\n",
       "      <td>1.0</td>\n",
       "    </tr>\n",
       "  </tbody>\n",
       "</table>\n",
       "</div>\n",
       "      <button class=\"colab-df-convert\" onclick=\"convertToInteractive('df-54b82805-7ef2-4304-9d58-77039dcdc85f')\"\n",
       "              title=\"Convert this dataframe to an interactive table.\"\n",
       "              style=\"display:none;\">\n",
       "        \n",
       "  <svg xmlns=\"http://www.w3.org/2000/svg\" height=\"24px\"viewBox=\"0 0 24 24\"\n",
       "       width=\"24px\">\n",
       "    <path d=\"M0 0h24v24H0V0z\" fill=\"none\"/>\n",
       "    <path d=\"M18.56 5.44l.94 2.06.94-2.06 2.06-.94-2.06-.94-.94-2.06-.94 2.06-2.06.94zm-11 1L8.5 8.5l.94-2.06 2.06-.94-2.06-.94L8.5 2.5l-.94 2.06-2.06.94zm10 10l.94 2.06.94-2.06 2.06-.94-2.06-.94-.94-2.06-.94 2.06-2.06.94z\"/><path d=\"M17.41 7.96l-1.37-1.37c-.4-.4-.92-.59-1.43-.59-.52 0-1.04.2-1.43.59L10.3 9.45l-7.72 7.72c-.78.78-.78 2.05 0 2.83L4 21.41c.39.39.9.59 1.41.59.51 0 1.02-.2 1.41-.59l7.78-7.78 2.81-2.81c.8-.78.8-2.07 0-2.86zM5.41 20L4 18.59l7.72-7.72 1.47 1.35L5.41 20z\"/>\n",
       "  </svg>\n",
       "      </button>\n",
       "      \n",
       "  <style>\n",
       "    .colab-df-container {\n",
       "      display:flex;\n",
       "      flex-wrap:wrap;\n",
       "      gap: 12px;\n",
       "    }\n",
       "\n",
       "    .colab-df-convert {\n",
       "      background-color: #E8F0FE;\n",
       "      border: none;\n",
       "      border-radius: 50%;\n",
       "      cursor: pointer;\n",
       "      display: none;\n",
       "      fill: #1967D2;\n",
       "      height: 32px;\n",
       "      padding: 0 0 0 0;\n",
       "      width: 32px;\n",
       "    }\n",
       "\n",
       "    .colab-df-convert:hover {\n",
       "      background-color: #E2EBFA;\n",
       "      box-shadow: 0px 1px 2px rgba(60, 64, 67, 0.3), 0px 1px 3px 1px rgba(60, 64, 67, 0.15);\n",
       "      fill: #174EA6;\n",
       "    }\n",
       "\n",
       "    [theme=dark] .colab-df-convert {\n",
       "      background-color: #3B4455;\n",
       "      fill: #D2E3FC;\n",
       "    }\n",
       "\n",
       "    [theme=dark] .colab-df-convert:hover {\n",
       "      background-color: #434B5C;\n",
       "      box-shadow: 0px 1px 3px 1px rgba(0, 0, 0, 0.15);\n",
       "      filter: drop-shadow(0px 1px 2px rgba(0, 0, 0, 0.3));\n",
       "      fill: #FFFFFF;\n",
       "    }\n",
       "  </style>\n",
       "\n",
       "      <script>\n",
       "        const buttonEl =\n",
       "          document.querySelector('#df-54b82805-7ef2-4304-9d58-77039dcdc85f button.colab-df-convert');\n",
       "        buttonEl.style.display =\n",
       "          google.colab.kernel.accessAllowed ? 'block' : 'none';\n",
       "\n",
       "        async function convertToInteractive(key) {\n",
       "          const element = document.querySelector('#df-54b82805-7ef2-4304-9d58-77039dcdc85f');\n",
       "          const dataTable =\n",
       "            await google.colab.kernel.invokeFunction('convertToInteractive',\n",
       "                                                     [key], {});\n",
       "          if (!dataTable) return;\n",
       "\n",
       "          const docLinkHtml = 'Like what you see? Visit the ' +\n",
       "            '<a target=\"_blank\" href=https://colab.research.google.com/notebooks/data_table.ipynb>data table notebook</a>'\n",
       "            + ' to learn more about interactive tables.';\n",
       "          element.innerHTML = '';\n",
       "          dataTable['output_type'] = 'display_data';\n",
       "          await google.colab.output.renderOutput(dataTable, element);\n",
       "          const docLink = document.createElement('div');\n",
       "          docLink.innerHTML = docLinkHtml;\n",
       "          element.appendChild(docLink);\n",
       "        }\n",
       "      </script>\n",
       "    </div>\n",
       "  </div>\n",
       "  "
      ]
     },
     "metadata": {},
     "execution_count": 52
    }
   ]
  },
  {
   "cell_type": "code",
   "source": [
    "X_cat = df[cat_data_features]\n",
    "X_cat = X_cat.drop(['not.fully.paid'], axis= 1)\n",
    "Y = df['not.fully.paid']"
   ],
   "metadata": {
    "id": "VOohTVNa6z3o",
    "executionInfo": {
     "status": "ok",
     "timestamp": 1673023651476,
     "user_tz": 300,
     "elapsed": 159,
     "user": {
      "displayName": "Sohrab Alex Mofid",
      "userId": "16250439725720827410"
     }
    },
    "pycharm": {
     "name": "#%%\n"
    }
   },
   "execution_count": 61,
   "outputs": []
  },
  {
   "cell_type": "code",
   "source": [
    "# Feature selection for best categorical variables using Chi2 test "
   ],
   "metadata": {
    "id": "MCVZYrl67TlK",
    "executionInfo": {
     "status": "ok",
     "timestamp": 1673023558709,
     "user_tz": 300,
     "elapsed": 195,
     "user": {
      "displayName": "Sohrab Alex Mofid",
      "userId": "16250439725720827410"
     }
    },
    "pycharm": {
     "name": "#%%\n"
    }
   },
   "execution_count": 55,
   "outputs": []
  },
  {
   "cell_type": "code",
   "source": [
    "f_p_values = chi2(X_cat, Y)\n",
    "p_values = pd.Series(f_p_values[1], index= X_cat.columns)\n",
    "p_values.sort_values(ascending = False, inplace=True)\n",
    "p_values"
   ],
   "metadata": {
    "colab": {
     "base_uri": "https://localhost:8080/",
     "height": 0
    },
    "id": "gemymuDV8nCi",
    "executionInfo": {
     "status": "ok",
     "timestamp": 1673024056034,
     "user_tz": 300,
     "elapsed": 157,
     "user": {
      "displayName": "Sohrab Alex Mofid",
      "userId": "16250439725720827410"
     }
    },
    "outputId": "8d716a97-e156-4906-ed90-ea2e286a7856",
    "pycharm": {
     "name": "#%%\n"
    }
   },
   "execution_count": 69,
   "outputs": [
    {
     "output_type": "execute_result",
     "data": {
      "text/plain": [
       "delinq.2yrs       3.301854e-02\n",
       "purpose           5.448400e-24\n",
       "credit.policy     4.337263e-36\n",
       "inq.last.6mths    0.000000e+00\n",
       "dtype: float64"
      ]
     },
     "metadata": {},
     "execution_count": 69
    }
   ]
  },
  {
   "cell_type": "code",
   "source": [
    "chi2_features = SelectKBest(chi2, k = 3)\n",
    "X_kbest_features = chi2_features.fit_transform(X_cat, Y)\n",
    "mask=chi2_features.get_support()\n",
    "new_feature=[]\n",
    "for bool,feature in zip(mask,X_cat.columns):\n",
    "  if bool:\n",
    "    new_feature.append(feature)\n",
    "new_feature"
   ],
   "metadata": {
    "colab": {
     "base_uri": "https://localhost:8080/",
     "height": 0
    },
    "id": "QlrpZ4OWAhzi",
    "executionInfo": {
     "status": "ok",
     "timestamp": 1673028524751,
     "user_tz": 300,
     "elapsed": 168,
     "user": {
      "displayName": "Sohrab Alex Mofid",
      "userId": "16250439725720827410"
     }
    },
    "outputId": "2ea9c27d-f638-48e6-c9ca-9070d6f4ad64",
    "pycharm": {
     "name": "#%%\n"
    }
   },
   "execution_count": 139,
   "outputs": [
    {
     "output_type": "execute_result",
     "data": {
      "text/plain": [
       "['credit.policy', 'purpose', 'inq.last.6mths']"
      ]
     },
     "metadata": {},
     "execution_count": 139
    }
   ]
  },
  {
   "cell_type": "code",
   "source": [
    "# Categorical features such as inq.last.6mths, credit.policy, and purpose have a p-value that is less than 0.05. These will therefore be taken into consideration for model training as they are seen to mostly influence wether a client will default or not."
   ],
   "metadata": {
    "id": "viD1kq-S9Bbb",
    "executionInfo": {
     "status": "ok",
     "timestamp": 1673028527209,
     "user_tz": 300,
     "elapsed": 273,
     "user": {
      "displayName": "Sohrab Alex Mofid",
      "userId": "16250439725720827410"
     }
    },
    "pycharm": {
     "name": "#%%\n"
    }
   },
   "execution_count": 140,
   "outputs": []
  },
  {
   "cell_type": "code",
   "source": [
    "# Before building the model we divide the data into features and target variables, split them and scale them\n",
    "X = df[['dti','fico','installment', 'int.rate','log.annual.inc','purpose','inq.last.6mths','credit.policy']]\n",
    "y = df['not.fully.paid']\n",
    "X_train, X_test, y_train, y_test = train_test_split(X, y, test_size = 0.2, random_state = 42)\n",
    "sc =StandardScaler()\n",
    "X_train= sc.fit_transform(X_train)\n",
    "X_test= sc.fit_transform(X_test)"
   ],
   "metadata": {
    "id": "wxjFvI6A_2KT",
    "executionInfo": {
     "status": "ok",
     "timestamp": 1673028605333,
     "user_tz": 300,
     "elapsed": 173,
     "user": {
      "displayName": "Sohrab Alex Mofid",
      "userId": "16250439725720827410"
     }
    },
    "pycharm": {
     "name": "#%%\n"
    }
   },
   "execution_count": 142,
   "outputs": []
  },
  {
   "cell_type": "code",
   "source": [
    "# Build Model\n",
    "model  = keras.Sequential(\n",
    "    [\n",
    "        keras.layers.Dense(\n",
    "        256, activation=\"relu\", input_shape=[8]),\n",
    "        keras.layers.Dense(256, activation=\"relu\"),\n",
    "        keras.layers.Dropout(0.3),\n",
    "        keras.layers.Dense(256, activation=\"relu\"),\n",
    "        keras.layers.Dropout(0.3),\n",
    "        keras.layers.Dense(1, activation=\"sigmoid\"),\n",
    "    ]\n",
    ")\n",
    "model.summary()"
   ],
   "metadata": {
    "colab": {
     "base_uri": "https://localhost:8080/",
     "height": 0
    },
    "id": "bSRoyHYFIwcC",
    "executionInfo": {
     "status": "ok",
     "timestamp": 1673029220863,
     "user_tz": 300,
     "elapsed": 638,
     "user": {
      "displayName": "Sohrab Alex Mofid",
      "userId": "16250439725720827410"
     }
    },
    "outputId": "21ec1a57-de26-4257-e5cd-7dda91355404",
    "pycharm": {
     "name": "#%%\n"
    }
   },
   "execution_count": 166,
   "outputs": [
    {
     "output_type": "stream",
     "name": "stdout",
     "text": [
      "Model: \"sequential_45\"\n",
      "_________________________________________________________________\n",
      " Layer (type)                Output Shape              Param #   \n",
      "=================================================================\n",
      " dense_25 (Dense)            (None, 256)               2304      \n",
      "                                                                 \n",
      " dense_26 (Dense)            (None, 256)               65792     \n",
      "                                                                 \n",
      " dropout_13 (Dropout)        (None, 256)               0         \n",
      "                                                                 \n",
      " dense_27 (Dense)            (None, 256)               65792     \n",
      "                                                                 \n",
      " dropout_14 (Dropout)        (None, 256)               0         \n",
      "                                                                 \n",
      " dense_28 (Dense)            (None, 1)                 257       \n",
      "                                                                 \n",
      "=================================================================\n",
      "Total params: 134,145\n",
      "Trainable params: 134,145\n",
      "Non-trainable params: 0\n",
      "_________________________________________________________________\n"
     ]
    }
   ]
  },
  {
   "cell_type": "code",
   "source": [
    "# complie model\n",
    "model.compile(optimizer = 'Adam', loss = 'binary_crossentropy', metrics = ['binary_accuracy'])"
   ],
   "metadata": {
    "id": "q2IJ7Yu1MvlM",
    "executionInfo": {
     "status": "ok",
     "timestamp": 1673029435439,
     "user_tz": 300,
     "elapsed": 153,
     "user": {
      "displayName": "Sohrab Alex Mofid",
      "userId": "16250439725720827410"
     }
    },
    "pycharm": {
     "name": "#%%\n"
    }
   },
   "execution_count": 178,
   "outputs": []
  },
  {
   "cell_type": "code",
   "source": [
    "# use call backs for optimization\n",
    "early_stopping = keras.callbacks.EarlyStopping(patience=10, min_delta=0.001, restore_best_weights=True)\n",
    "history = model.fit(X_train, y_train, validation_data=(X_test, y_test), batch_size=256, epochs=1600, callbacks=[early_stopping],verbose=1,)"
   ],
   "metadata": {
    "colab": {
     "base_uri": "https://localhost:8080/",
     "height": 0
    },
    "id": "s8pyZ7NNQe8j",
    "executionInfo": {
     "status": "ok",
     "timestamp": 1673029539355,
     "user_tz": 300,
     "elapsed": 9066,
     "user": {
      "displayName": "Sohrab Alex Mofid",
      "userId": "16250439725720827410"
     }
    },
    "outputId": "da9a7659-bea1-498c-85bf-1b1f5391c821",
    "pycharm": {
     "name": "#%%\n"
    }
   },
   "execution_count": 182,
   "outputs": [
    {
     "output_type": "stream",
     "name": "stdout",
     "text": [
      "Epoch 1/1600\n",
      "51/51 [==============================] - 1s 21ms/step - loss: 0.2060 - binary_accuracy: 0.9146 - val_loss: 0.3998 - val_binary_accuracy: 0.8745\n",
      "Epoch 2/1600\n",
      "51/51 [==============================] - 1s 15ms/step - loss: 0.1972 - binary_accuracy: 0.9175 - val_loss: 0.3892 - val_binary_accuracy: 0.8751\n",
      "Epoch 3/1600\n",
      "51/51 [==============================] - 1s 14ms/step - loss: 0.2008 - binary_accuracy: 0.9162 - val_loss: 0.4058 - val_binary_accuracy: 0.8698\n",
      "Epoch 4/1600\n",
      "51/51 [==============================] - 1s 14ms/step - loss: 0.1963 - binary_accuracy: 0.9197 - val_loss: 0.4193 - val_binary_accuracy: 0.8676\n",
      "Epoch 5/1600\n",
      "51/51 [==============================] - 1s 13ms/step - loss: 0.2073 - binary_accuracy: 0.9128 - val_loss: 0.4283 - val_binary_accuracy: 0.8605\n",
      "Epoch 6/1600\n",
      "51/51 [==============================] - 1s 14ms/step - loss: 0.1943 - binary_accuracy: 0.9185 - val_loss: 0.4172 - val_binary_accuracy: 0.8682\n",
      "Epoch 7/1600\n",
      "51/51 [==============================] - 1s 13ms/step - loss: 0.1890 - binary_accuracy: 0.9206 - val_loss: 0.4293 - val_binary_accuracy: 0.8651\n",
      "Epoch 8/1600\n",
      "51/51 [==============================] - 1s 13ms/step - loss: 0.1861 - binary_accuracy: 0.9229 - val_loss: 0.4459 - val_binary_accuracy: 0.8623\n",
      "Epoch 9/1600\n",
      "51/51 [==============================] - 1s 13ms/step - loss: 0.1900 - binary_accuracy: 0.9228 - val_loss: 0.4155 - val_binary_accuracy: 0.8760\n",
      "Epoch 10/1600\n",
      "51/51 [==============================] - 1s 13ms/step - loss: 0.1877 - binary_accuracy: 0.9215 - val_loss: 0.3978 - val_binary_accuracy: 0.8844\n",
      "Epoch 11/1600\n",
      "51/51 [==============================] - 1s 13ms/step - loss: 0.1888 - binary_accuracy: 0.9213 - val_loss: 0.4392 - val_binary_accuracy: 0.8754\n",
      "Epoch 12/1600\n",
      "51/51 [==============================] - 1s 13ms/step - loss: 0.1871 - binary_accuracy: 0.9237 - val_loss: 0.4265 - val_binary_accuracy: 0.8726\n"
     ]
    }
   ]
  },
  {
   "cell_type": "code",
   "source": [
    "predictions =(model.predict(X_test)>0.5).astype(\"int32\")\n",
    "              \n",
    "predictions"
   ],
   "metadata": {
    "colab": {
     "base_uri": "https://localhost:8080/",
     "height": 0
    },
    "id": "xgVuJqLqR7Io",
    "executionInfo": {
     "status": "ok",
     "timestamp": 1673029590128,
     "user_tz": 300,
     "elapsed": 398,
     "user": {
      "displayName": "Sohrab Alex Mofid",
      "userId": "16250439725720827410"
     }
    },
    "outputId": "8097681d-5871-454f-d28f-4d65af51230a",
    "pycharm": {
     "name": "#%%\n"
    }
   },
   "execution_count": 183,
   "outputs": [
    {
     "output_type": "stream",
     "name": "stdout",
     "text": [
      "101/101 [==============================] - 0s 2ms/step\n"
     ]
    },
    {
     "output_type": "execute_result",
     "data": {
      "text/plain": [
       "array([[0],\n",
       "       [0],\n",
       "       [0],\n",
       "       ...,\n",
       "       [0],\n",
       "       [1],\n",
       "       [1]], dtype=int32)"
      ]
     },
     "metadata": {},
     "execution_count": 183
    }
   ]
  },
  {
   "cell_type": "code",
   "source": [
    "from sklearn.metrics import classification_report, confusion_matrix, accuracy_score\n",
    "accuracy_score(y_test, predictions)"
   ],
   "metadata": {
    "colab": {
     "base_uri": "https://localhost:8080/",
     "height": 0
    },
    "id": "UV81wNulSGDs",
    "executionInfo": {
     "status": "ok",
     "timestamp": 1673029592623,
     "user_tz": 300,
     "elapsed": 161,
     "user": {
      "displayName": "Sohrab Alex Mofid",
      "userId": "16250439725720827410"
     }
    },
    "outputId": "d90d12cf-215f-45e1-f044-32940a6b2a3a",
    "pycharm": {
     "name": "#%%\n"
    }
   },
   "execution_count": 184,
   "outputs": [
    {
     "output_type": "execute_result",
     "data": {
      "text/plain": [
       "0.875077688004972"
      ]
     },
     "metadata": {},
     "execution_count": 184
    }
   ]
  },
  {
   "cell_type": "code",
   "source": [
    "print(classification_report(y_test, predictions))"
   ],
   "metadata": {
    "colab": {
     "base_uri": "https://localhost:8080/",
     "height": 0
    },
    "id": "Y6T0DWSFSSbH",
    "executionInfo": {
     "status": "ok",
     "timestamp": 1673029185335,
     "user_tz": 300,
     "elapsed": 220,
     "user": {
      "displayName": "Sohrab Alex Mofid",
      "userId": "16250439725720827410"
     }
    },
    "outputId": "14a36c6b-5a69-4d21-d4d6-8b5caaeba9c5",
    "pycharm": {
     "name": "#%%\n"
    }
   },
   "execution_count": 165,
   "outputs": [
    {
     "output_type": "stream",
     "name": "stdout",
     "text": [
      "              precision    recall  f1-score   support\n",
      "\n",
      "         0.0       0.94      0.81      0.87      1617\n",
      "         1.0       0.83      0.94      0.88      1601\n",
      "\n",
      "    accuracy                           0.87      3218\n",
      "   macro avg       0.88      0.87      0.87      3218\n",
      "weighted avg       0.88      0.87      0.87      3218\n",
      "\n"
     ]
    }
   ]
  },
  {
   "cell_type": "code",
   "source": [
    "print(metrics.confusion_matrix(y_test, predictions))"
   ],
   "metadata": {
    "colab": {
     "base_uri": "https://localhost:8080/",
     "height": 0
    },
    "id": "x24BCbRMWXoP",
    "executionInfo": {
     "status": "ok",
     "timestamp": 1673029914801,
     "user_tz": 300,
     "elapsed": 208,
     "user": {
      "displayName": "Sohrab Alex Mofid",
      "userId": "16250439725720827410"
     }
    },
    "outputId": "b29d603e-dde4-47dc-c448-576f19bdcba2",
    "pycharm": {
     "name": "#%%\n"
    }
   },
   "execution_count": 188,
   "outputs": [
    {
     "output_type": "stream",
     "name": "stdout",
     "text": [
      "[[1270  347]\n",
      " [  55 1546]]\n"
     ]
    }
   ]
  },
  {
   "cell_type": "code",
   "source": [
    "It can be seen that our model has an accuracy of 87.50 which is quite good."
   ],
   "metadata": {
    "id": "4uOmqBTJWHoF",
    "pycharm": {
     "name": "#%%\n"
    }
   },
   "execution_count": null,
   "outputs": []
  }
 ]
}